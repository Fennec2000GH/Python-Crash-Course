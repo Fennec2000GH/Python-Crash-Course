{
 "cells": [
  {
   "cell_type": "markdown",
   "metadata": {},
   "source": [
    "# PyPDF2"
   ]
  },
  {
   "cell_type": "markdown",
   "metadata": {},
   "source": [
    "Basic Example with Reading, Writing, and Copying PDFs"
   ]
  },
  {
   "cell_type": "code",
   "execution_count": 3,
   "metadata": {},
   "outputs": [],
   "source": [
    "\n",
    "import glob\n",
    "from PyPDF2 import PdfFileReader, PdfFileWriter\n",
    "\n",
    "paths = glob.glob('./Python- OCR for PDF or Compare textract, pytesseract, and pyocr.pdf')\n",
    "paths.sort()\n",
    "pdf_writer = PdfFileWriter()\n",
    "for path in paths:\n",
    "    \"\"\"Something\"\"\"\n",
    "    pdf_reader = PdfFileReader(stream=path)\n",
    "    for page_number in range(pdf_reader.getNumPages())\n",
    "        pdf_writer.addPage(page=pdf_reader.getPage(pageNumber=page_number))\n",
    "    with open(file='./new_pdf', mode='wb') as out:\n",
    "        pdf_writer.write(stream=out)\n"
   ]
  },
  {
   "cell_type": "markdown",
   "metadata": {},
   "source": [
    "## PdfFileReader class"
   ]
  },
  {
   "cell_type": "markdown",
   "metadata": {},
   "source": [
    "The PdfFileReader Class <br><br>\n",
    "\n",
    "class PyPDF2.PdfFileReader(stream, strict=True, warndest=None, overwriteWarnings=True)\n",
    "<br><br>\n",
    "Initializes a PdfFileReader object. This operation can take some time, as the PDF stream’s cross-reference tables are read into memory.<br><br>\n",
    "\n",
    "Parameters:<br><br>\n",
    "stream – A File object or an object that supports the standard read and seek methods similar to a File object. Could also be a string representing a path to a PDF file.<br><br>\n",
    "\n",
    "strict (bool) – Determines whether user should be warned of all problems and also causes some correctable problems to be fatal. Defaults to True.<br><br>\n",
    "\n",
    "warndest – Destination for logging warnings (defaults to sys.stderr).<br><br>\n",
    "\n",
    "overwriteWarnings (bool) – Determines whether to override Python’s warnings.py module with a custom implementation (defaults to True)."
   ]
  },
  {
   "cell_type": "code",
   "execution_count": 3,
   "metadata": {},
   "outputs": [],
   "source": [
    "\n",
    "from PyPDF2 import PdfFileReader\n",
    "import sys\n",
    "\n",
    "path = open(file='./Python- OCR for PDF or Compare textract, pytesseract, and pyocr.pdf', mode='rb')\n",
    "pdf_reader = PdfFileReader(stream=path, strict=True, warndest=sys.stderr, overwriteWarnings=True)\n"
   ]
  },
  {
   "cell_type": "markdown",
   "metadata": {},
   "source": [
    "decrypt(password)<br><br>\n",
    "\n",
    "When using an encrypted / secured PDF file with the PDF Standard encryption handler, this function will allow the file to be decrypted. It checks the given password against the document’s user password and owner password, and then stores the resulting decryption key if either password is correct.\n",
    "\n",
    "It does not matter which password was matched. Both passwords provide the correct decryption key that will allow the document to be used with this library.\n",
    "\n",
    "Parameters:<br><br>\n",
    "\n",
    "password (str) – The password to match.<br><br>\n",
    "\n",
    "Returns:\t0 if the password failed, 1 if the password matched the user password, and 2 if the password matched the owner password.<br><br>\n",
    "Return type:\tint\n",
    "Raises NotImplementedError:\n",
    " \tif document uses an unsupported encryption method."
   ]
  },
  {
   "cell_type": "markdown",
   "metadata": {},
   "source": [
    "isEncrypted<br><br>\n",
    "Read-only boolean property showing whether this PDF file is encrypted. Note that this property, if true, will remain true even after the decrypt() method is called."
   ]
  },
  {
   "cell_type": "code",
   "execution_count": 39,
   "metadata": {},
   "outputs": [
    {
     "name": "stdout",
     "output_type": "stream",
     "text": [
      "'/Encrypt'\n",
      "False\n"
     ]
    }
   ],
   "source": [
    "\n",
    "from PyPDF2 import PdfFileReader\n",
    "import sys\n",
    "\n",
    "path = open(file='./Python- OCR for PDF or Compare textract, pytesseract, and pyocr.pdf', mode='rb')\n",
    "pdf_reader = PdfFileReader(stream=path, strict=True, warndest=sys.stderr, overwriteWarnings=True)\n",
    "try:\n",
    "    pdf_reader.decrypt(password='None')\n",
    "except KeyError as error:\n",
    "    print(str(error))\n",
    "\n",
    "print(pdf_reader.isEncrypted)\n",
    "assert pdf_reader.isEncrypted is not True\n"
   ]
  },
  {
   "cell_type": "markdown",
   "metadata": {},
   "source": [
    "documentInfo<br><br>\n",
    "Read-only property that accesses the getDocumentInfo() function."
   ]
  },
  {
   "cell_type": "markdown",
   "metadata": {},
   "source": [
    "getDocumentInfo()<br><br>\n",
    "\n",
    "Retrieves the PDF file’s document information dictionary, if it exists. Note that some PDF files use metadata streams instead of docinfo dictionaries, and these metadata streams will not be accessed by this function.\n",
    "\n",
    "Returns:\tthe document information of this PDF file\n",
    "Return type:\tDocumentInformation or None if none exists."
   ]
  },
  {
   "cell_type": "markdown",
   "metadata": {},
   "source": [
    "class PyPDF2.pdf.DocumentInformation<br><br>\n",
    "\n",
    "A class representing the basic document metadata provided in a PDF File. This class is accessible through getDocumentInfo()<br><br>\n",
    "\n",
    "All text properties of the document metadata have two properties, eg. author and author_raw. The non-raw property will always return a TextStringObject, making it ideal for a case where the metadata is being displayed. The raw property can sometimes return a ByteStringObject, if PyPDF2 was unable to decode the string’s text encoding; this requires additional safety in the caller and therefore is not as commonly accessed.<br><br>\n",
    "\n",
    "author\n",
    "Read-only property accessing the document’s author. Returns a unicode string (TextStringObject) or None if the author is not specified.\n",
    "\n",
    "author_raw<br>\n",
    "The “raw” version of author; can return a ByteStringObject.<br><br>\n",
    "\n",
    "creator<br>\n",
    "Read-only property accessing the document’s creator. If the document was converted to PDF from another format, this is the name of the application (e.g. OpenOffice) that created the original document from which it was converted. Returns a unicode string (TextStringObject) or None if the creator is not specified.<br><br>\n",
    "\n",
    "creator_raw<br>\n",
    "The “raw” version of creator; can return a ByteStringObject.<br><br>\n",
    "\n",
    "producer<br>\n",
    "Read-only property accessing the document’s producer. If the document was converted to PDF from another format, this is the name of the application (for example, OSX Quartz) that converted it to PDF. Returns a unicode string (TextStringObject) or None if the producer is not specified.<br><br>\n",
    "\n",
    "producer_raw<br>\n",
    "The “raw” version of producer; can return a ByteStringObject.<br><br>\n",
    "\n",
    "subject<br>\n",
    "Read-only property accessing the document’s subject. Returns a unicode string (TextStringObject) or None if the subject is not specified.<br><br>\n",
    "\n",
    "subject_raw<br>\n",
    "The “raw” version of subject; can return a ByteStringObject.<br><br>\n",
    "\n",
    "title<br>\n",
    "Read-only property accessing the document’s title. Returns a unicode string (TextStringObject) or None if the title is not specified.<br><br>\n",
    "\n",
    "title_raw<br>\n",
    "The “raw” version of title; can return a ByteStringObject.<br><br>"
   ]
  },
  {
   "cell_type": "code",
   "execution_count": 21,
   "metadata": {},
   "outputs": [
    {
     "name": "stdout",
     "output_type": "stream",
     "text": [
      "<class 'PyPDF2.pdf.DocumentInformation'>\n",
      "{'/Creator': 'Mozilla/5.0 (Macintosh; Intel Mac OS X 10_15_4) AppleWebKit/537.36 (KHTML, like Gecko) Chrome/83.0.4103.61 Safari/537.36', '/Producer': 'Skia/PDF m83', '/CreationDate': \"D:20200608035829+00'00'\", '/ModDate': \"D:20200608035829+00'00'\"}\n",
      "\n",
      "author:  None\n",
      "author_raw:  None\n",
      "creator:  Mozilla/5.0 (Macintosh; Intel Mac OS X 10_15_4) AppleWebKit/537.36 (KHTML, like Gecko) Chrome/83.0.4103.61 Safari/537.36\n",
      "creator_raw:  Mozilla/5.0 (Macintosh; Intel Mac OS X 10_15_4) AppleWebKit/537.36 (KHTML, like Gecko) Chrome/83.0.4103.61 Safari/537.36\n",
      "producer:  Skia/PDF m83\n",
      "producer_raw:  Skia/PDF m83\n",
      "subject:  None\n",
      "subject_raw:  None\n",
      "title:  None\n",
      "title_raw:  None\n"
     ]
    }
   ],
   "source": [
    "\n",
    "from PyPDF2 import PdfFileReader\n",
    "import sys\n",
    "\n",
    "path = open(file='./Python- OCR for PDF or Compare textract, pytesseract, and pyocr.pdf', mode='rb')\n",
    "pdf_reader = PdfFileReader(stream=path, strict=True, warndest=sys.stderr, overwriteWarnings=True)\n",
    "pdf_info = pdf_reader.documentInfo\n",
    "print(type(pdf_info))\n",
    "print(pdf_info, end='\\n\\n')\n",
    "# for key, value in pdf_info.__dict__.items():\n",
    "#     \"\"\"Print each attribute KV pair in pdf_info\"\"\"\n",
    "#     print(key, ': ', value)\n",
    "assert pdf_reader.documentInfo == pdf_reader.getDocumentInfo()\n",
    "print('author: ', pdf_info.author)\n",
    "print('author_raw: ', pdf_info.author_raw)\n",
    "print('creator: ', pdf_info.creator)\n",
    "print('creator_raw: ', pdf_info.creator_raw)\n",
    "print('producer: ', pdf_info.producer)\n",
    "print('producer_raw: ', pdf_info.producer_raw)\n",
    "print('subject: ', pdf_info.subject)\n",
    "print('subject_raw: ', pdf_info.subject_raw)\n",
    "print('title: ', pdf_info.title)\n",
    "print('title_raw: ', pdf_info.title_raw)\n"
   ]
  },
  {
   "cell_type": "markdown",
   "metadata": {},
   "source": [
    "getDestinationPageNumber(destination)<br><br>\n",
    "Retrieve page number of a given Destination object\n",
    "\n",
    "Parameters:<br><br>\n",
    "\n",
    "destination (Destination) – The destination to get page number. Should be an instance of Destination<br><br>\n",
    "\n",
    "Returns:\n",
    "the page number or -1 if page not found<br><br>\n",
    "Return type: int"
   ]
  },
  {
   "cell_type": "markdown",
   "metadata": {},
   "source": [
    "namedDestinations<br><br>\n",
    "Read-only property that accesses the getNamedDestinations() function."
   ]
  },
  {
   "cell_type": "markdown",
   "metadata": {},
   "source": [
    "getNamedDestinations(tree=None, retval=None)<br><br>\n",
    "Retrieves the named destinations present in the document.\n",
    "\n",
    "Returns:\ta dictionary which maps names to Destinations.<br>\n",
    "Return type:\tdict"
   ]
  },
  {
   "cell_type": "markdown",
   "metadata": {},
   "source": [
    "The Destination Class<br><br>\n",
    "class PyPDF2.generic.Destination(title, page, typ, *args)<br><br>\n",
    "A class representing a destination within a PDF file. See section 8.2.1 of the PDF 1.6 reference.<br><br>\n",
    "\n",
    "Parameters:\t\n",
    "title (str) – Title of this destination.<br>\n",
    "page (int) – Page number of this destination.<br>\n",
    "typ (str) – How the destination is displayed.<br>\n",
    "args – Additional arguments may be necessary depending on the type.<br>\n",
    "Raises PdfReadError:<br>\n",
    " \t\n",
    "If destination type is invalid.<br><br>\n",
    "\n",
    "Valid typ arguments (see PDF spec for details):<br>\n",
    "/Fit\tNo additional arguments<br>\n",
    "/XYZ\t[left] [top] [zoomFactor]<br>\n",
    "/FitH\t[top]<br>\n",
    "/FitV\t[left]<br>\n",
    "/FitR\t[left] [bottom] [right] [top]<br>\n",
    "/FitB\tNo additional arguments<br>\n",
    "/FitBH\t[top]<br>\n",
    "/FitBV\t[left]<br>\n",
    "bottom<br>\n",
    "Read-only property accessing the bottom vertical coordinate.<br><br>\n",
    "\n",
    "Return type:\tint, or None if not available.\n",
    "left\n",
    "Read-only property accessing the left horizontal coordinate.\n",
    "\n",
    "Return type:\tint, or None if not available.\n",
    "page\n",
    "Read-only property accessing the destination page number.\n",
    "\n",
    "Return type:\tint\n",
    "right\n",
    "Read-only property accessing the right horizontal coordinate.\n",
    "\n",
    "Return type:\tint, or None if not available.\n",
    "title\n",
    "Read-only property accessing the destination title.\n",
    "\n",
    "Return type:\tstr\n",
    "top\n",
    "Read-only property accessing the top vertical coordinate.\n",
    "\n",
    "Return type:\tint, or None if not available.\n",
    "typ\n",
    "Read-only property accessing the destination type.\n",
    "\n",
    "Return type:\tstr\n",
    "zoom\n",
    "Read-only property accessing the zoom factor.\n",
    "\n",
    "Return type:\tint, or None if not available."
   ]
  },
  {
   "cell_type": "code",
   "execution_count": 73,
   "metadata": {},
   "outputs": [
    {
     "name": "stdout",
     "output_type": "stream",
     "text": [
      "{}\n"
     ]
    }
   ],
   "source": [
    "\n",
    "from PyPDF2 import PdfFileReader\n",
    "from PyPDF2.generic import Destination\n",
    "import sys\n",
    "\n",
    "path = open(file='./Python- OCR for PDF or Compare textract, pytesseract, and pyocr.pdf', mode='rb')\n",
    "pdf_reader = PdfFileReader(stream=path, strict=True, warndest=sys.stderr, overwriteWarnings=True)\n",
    "named_dests = pdf_reader.namedDestinations\n",
    "print(named_dests)\n",
    "assert pdf_reader.namedDestinations == pdf_reader.getNamedDestinations()\n",
    "# dest = Destination(title=path.name, page=1, typ=None)\n",
    "# dest_pg_num = pdf_reader.getDestinationPageNumber(destination=dest)\n"
   ]
  },
  {
   "cell_type": "markdown",
   "metadata": {},
   "source": [
    "getFields(tree=None, retval=None, fileobj=None)<br><br>\n",
    "Extracts field data if this PDF contains interactive form fields. The tree and retval parameters are for recursive use.\n",
    "\n",
    "Parameters:<br><br>\n",
    "\n",
    "fileobj – A file object (usually a text file) to write a report to on all interactive form fields found.<br><br>\n",
    "Returns:\tA dictionary where each key is a field name, and each value is a Field object. By default, the mapping name is used for keys.\n",
    "Return type:\tdict, or"
   ]
  },
  {
   "cell_type": "markdown",
   "metadata": {},
   "source": [
    "getFormTextFields()<br><br>\n",
    "Retrieves form fields from the document with textual data (inputs, dropdowns)"
   ]
  },
  {
   "cell_type": "code",
   "execution_count": 74,
   "metadata": {},
   "outputs": [
    {
     "name": "stdout",
     "output_type": "stream",
     "text": [
      "<class 'dict'>\n",
      "{'topmostSubform[0].Page1[0].FilingStatus[0].c1_01[0]': {'/FT': '/Btn', '/T': 'topmostSubform[0].Page1[0].FilingStatus[0].c1_01[0]', '/Ff': 0, '/V': '/1'}, 'topmostSubform[0].Page1[0].f1_02[0]': {'/FT': '/Tx', '/T': 'topmostSubform[0].Page1[0].f1_02[0]', '/Ff': 8388608, '/V': 'U.N.'}, 'topmostSubform[0].Page1[0].f1_03[0]': {'/FT': '/Tx', '/T': 'topmostSubform[0].Page1[0].f1_03[0]', '/Ff': 8388608, '/V': 'Owen'}, 'topmostSubform[0].Page1[0].YourSocial_ReadOrderControl[0].f1_04[0]': {'/FT': '/Tx', '/T': 'topmostSubform[0].Page1[0].YourSocial_ReadOrderControl[0].f1_04[0]', '/Ff': 25165824, '/V': '123456789'}, 'topmostSubform[0].Page1[0].ReadOrderControl[0].Address[0].f1_08[0]': {'/FT': '/Tx', '/T': 'topmostSubform[0].Page1[0].ReadOrderControl[0].Address[0].f1_08[0]', '/Ff': 8388608, '/V': '666 Enigma St.'}, 'topmostSubform[0].Page1[0].ReadOrderControl[0].Address[0].f1_10[0]': {'/FT': '/Tx', '/T': 'topmostSubform[0].Page1[0].ReadOrderControl[0].Address[0].f1_10[0]', '/Ff': 8388608, '/V': 'Soldier Island, AC 32323'}, 'topmostSubform[0].Page1[0].ReadOrderControl[0].Address[0].f1_11[0]': {'/FT': '/Tx', '/T': 'topmostSubform[0].Page1[0].ReadOrderControl[0].Address[0].f1_11[0]', '/Ff': 8388608, '/V': 'Christieland'}, 'topmostSubform[0].Page1[0].ReadOrderControl[0].Address[0].f1_13[0]': {'/FT': '/Tx', '/T': 'topmostSubform[0].Page1[0].ReadOrderControl[0].Address[0].f1_13[0]', '/Ff': 8388608, '/V': '101010'}, 'topmostSubform[0].Page1[0].ReadOrderControl[1].StandardDeduction[0].c1_04[0]': {'/FT': '/Btn', '/T': 'topmostSubform[0].Page1[0].ReadOrderControl[1].StandardDeduction[0].c1_04[0]', '/Ff': 0, '/V': '/1'}, 'topmostSubform[0].Page1[0].ReadOrderControl[1].AgeBlindness[0].c1_07[0]': {'/FT': '/Btn', '/T': 'topmostSubform[0].Page1[0].ReadOrderControl[1].AgeBlindness[0].c1_07[0]', '/Ff': 0, '/V': '/1'}, 'topmostSubform[0].Page1[0].Dependents[0].Table_Dependents[0].Row1[0].f1_14[0]': {'/FT': '/Tx', '/T': 'topmostSubform[0].Page1[0].Dependents[0].Table_Dependents[0].Row1[0].f1_14[0]', '/Ff': 8388608, '/V': 'Philip Lombard'}, 'topmostSubform[0].Page1[0].Dependents[0].Table_Dependents[0].Row1[0].f1_15[0]': {'/FT': '/Tx', '/T': 'topmostSubform[0].Page1[0].Dependents[0].Table_Dependents[0].Row1[0].f1_15[0]', '/Ff': 16777216, '/V': '341389080'}, 'topmostSubform[0].Page1[0].Dependents[0].Table_Dependents[0].Row1[0].f1_16[0]': {'/FT': '/Tx', '/T': 'topmostSubform[0].Page1[0].Dependents[0].Table_Dependents[0].Row1[0].f1_16[0]', '/Ff': 8388608, '/V': 'Son'}, 'topmostSubform[0].Page1[0].Dependents[0].Table_Dependents[0].Row1[0].c1_12[0]': {'/FT': '/Btn', '/T': 'topmostSubform[0].Page1[0].Dependents[0].Table_Dependents[0].Row1[0].c1_12[0]', '/Ff': 0, '/V': '/1'}, 'topmostSubform[0].Page1[0].Dependents[0].Table_Dependents[0].Row2[0].f1_17[0]': {'/FT': '/Tx', '/T': 'topmostSubform[0].Page1[0].Dependents[0].Table_Dependents[0].Row2[0].f1_17[0]', '/Ff': 8388608, '/V': 'Vera Claythorne'}, 'topmostSubform[0].Page1[0].Dependents[0].Table_Dependents[0].Row2[0].f1_18[0]': {'/FT': '/Tx', '/T': 'topmostSubform[0].Page1[0].Dependents[0].Table_Dependents[0].Row2[0].f1_18[0]', '/Ff': 16777216, '/V': '331890766'}, 'topmostSubform[0].Page1[0].Dependents[0].Table_Dependents[0].Row2[0].f1_19[0]': {'/FT': '/Tx', '/T': 'topmostSubform[0].Page1[0].Dependents[0].Table_Dependents[0].Row2[0].f1_19[0]', '/Ff': 8388608, '/V': 'Daughter'}, 'topmostSubform[0].Page1[0].Dependents[0].Table_Dependents[0].Row2[0].c1_14[0]': {'/FT': '/Btn', '/T': 'topmostSubform[0].Page1[0].Dependents[0].Table_Dependents[0].Row2[0].c1_14[0]', '/Ff': 0, '/V': '/1'}, 'topmostSubform[0].Page1[0].Dependents[0].Table_Dependents[0].Row3[0].f1_20[0]': {'/FT': '/Tx', '/T': 'topmostSubform[0].Page1[0].Dependents[0].Table_Dependents[0].Row3[0].f1_20[0]', '/Ff': 8388608, '/V': 'Edward Armstrong'}, 'topmostSubform[0].Page1[0].Dependents[0].Table_Dependents[0].Row3[0].f1_21[0]': {'/FT': '/Tx', '/T': 'topmostSubform[0].Page1[0].Dependents[0].Table_Dependents[0].Row3[0].f1_21[0]', '/Ff': 16777216, '/V': '111111111'}, 'topmostSubform[0].Page1[0].Dependents[0].Table_Dependents[0].Row3[0].f1_22[0]': {'/FT': '/Tx', '/T': 'topmostSubform[0].Page1[0].Dependents[0].Table_Dependents[0].Row3[0].f1_22[0]', '/Ff': 8388608, '/V': 'Doctor'}, 'topmostSubform[0].Page1[0].Dependents[0].Table_Dependents[0].Row4[0].f1_23[0]': {'/FT': '/Tx', '/T': 'topmostSubform[0].Page1[0].Dependents[0].Table_Dependents[0].Row4[0].f1_23[0]', '/Ff': 8388608, '/V': 'General MacArthur'}, 'topmostSubform[0].Page1[0].Dependents[0].Table_Dependents[0].Row4[0].f1_24[0]': {'/FT': '/Tx', '/T': 'topmostSubform[0].Page1[0].Dependents[0].Table_Dependents[0].Row4[0].f1_24[0]', '/Ff': 16777216, '/V': '444342124'}, 'topmostSubform[0].Page1[0].Dependents[0].Table_Dependents[0].Row4[0].f1_25[0]': {'/FT': '/Tx', '/T': 'topmostSubform[0].Page1[0].Dependents[0].Table_Dependents[0].Row4[0].f1_25[0]', '/Ff': 8388608, '/V': 'Tyrant'}, 'topmostSubform[0].Page1[0].Dependents[0].Table_Dependents[0].Row3[0].c1_16[0]': {'/FT': '/Btn', '/T': 'topmostSubform[0].Page1[0].Dependents[0].Table_Dependents[0].Row3[0].c1_16[0]', '/Ff': 0, '/V': '/1'}, 'topmostSubform[0].Page1[0].Dependents[0].Table_Dependents[0].Row4[0].c1_18[0]': {'/FT': '/Btn', '/T': 'topmostSubform[0].Page1[0].Dependents[0].Table_Dependents[0].Row4[0].c1_18[0]', '/Ff': 0, '/V': '/1'}, 'topmostSubform[0].Page1[0].ReadOrderControl_Lns1-8b[0].f1_27[0]': {'/FT': '/Tx', '/T': 'topmostSubform[0].Page1[0].ReadOrderControl_Lns1-8b[0].f1_27[0]', '/Ff': 8388608, '/V': '1234567890'}, 'topmostSubform[0].Page1[0].ReadOrderControl_Lns1-8b[0].f1_29[0]': {'/FT': '/Tx', '/T': 'topmostSubform[0].Page1[0].ReadOrderControl_Lns1-8b[0].f1_29[0]', '/Ff': 8388608, '/V': '0987654321'}, 'topmostSubform[0].Page1[0].ReadOrderControl_Lns1-8b[0].f1_31[0]': {'/FT': '/Tx', '/T': 'topmostSubform[0].Page1[0].ReadOrderControl_Lns1-8b[0].f1_31[0]', '/Ff': 8388608, '/V': 'qwertyuiop'}, 'topmostSubform[0].Page1[0].ReadOrderControl_Lns1-8b[0].f1_33[0]': {'/FT': '/Tx', '/T': 'topmostSubform[0].Page1[0].ReadOrderControl_Lns1-8b[0].f1_33[0]', '/Ff': 8388608, '/V': 'hgfdsa'}, 'topmostSubform[0].Page1[0].ReadOrderControl_Lns1-8b[0].f1_35[0]': {'/FT': '/Tx', '/T': 'topmostSubform[0].Page1[0].ReadOrderControl_Lns1-8b[0].f1_35[0]', '/Ff': 8388608, '/V': 'zxcvbnm'}, 'topmostSubform[0].Page1[0].ReadOrderControl_Lns1-8b[0].f1_26[0]': {'/FT': '/Tx', '/T': 'topmostSubform[0].Page1[0].ReadOrderControl_Lns1-8b[0].f1_26[0]', '/Ff': 8388608, '/V': '1'}, 'topmostSubform[0].Page1[0].ReadOrderControl_Lns1-8b[0].f1_28[0]': {'/FT': '/Tx', '/T': 'topmostSubform[0].Page1[0].ReadOrderControl_Lns1-8b[0].f1_28[0]', '/Ff': 8388608, '/V': '2b'}, 'topmostSubform[0].Page1[0].ReadOrderControl_Lns1-8b[0].f1_30[0]': {'/FT': '/Tx', '/T': 'topmostSubform[0].Page1[0].ReadOrderControl_Lns1-8b[0].f1_30[0]', '/Ff': 8388608, '/V': '3b'}, 'topmostSubform[0].Page1[0].ReadOrderControl_Lns1-8b[0].f1_32[0]': {'/FT': '/Tx', '/T': 'topmostSubform[0].Page1[0].ReadOrderControl_Lns1-8b[0].f1_32[0]', '/Ff': 8388608, '/V': '4b'}, 'topmostSubform[0].Page1[0].ReadOrderControl_Lns1-8b[0].f1_34[0]': {'/FT': '/Tx', '/T': 'topmostSubform[0].Page1[0].ReadOrderControl_Lns1-8b[0].f1_34[0]', '/Ff': 8388608, '/V': '5b'}, 'topmostSubform[0].Page1[0].ReadOrderControl_Lns1-8b[0].f1_36[0]': {'/FT': '/Tx', '/T': 'topmostSubform[0].Page1[0].ReadOrderControl_Lns1-8b[0].f1_36[0]', '/Ff': 8388608, '/V': '6b'}, 'topmostSubform[0].Page1[0].ReadOrderControl_Lns1-8b[0].f1_37[0]': {'/FT': '/Tx', '/T': 'topmostSubform[0].Page1[0].ReadOrderControl_Lns1-8b[0].f1_37[0]', '/Ff': 8388608, '/V': '6'}, 'topmostSubform[0].Page1[0].ReadOrderControl_Lns1-8b[0].f1_38[0]': {'/FT': '/Tx', '/T': 'topmostSubform[0].Page1[0].ReadOrderControl_Lns1-8b[0].f1_38[0]', '/Ff': 8388608, '/V': '7a'}, 'topmostSubform[0].Page1[0].ReadOrderControl_Lns1-8b[0].f1_39[0]': {'/FT': '/Tx', '/T': 'topmostSubform[0].Page1[0].ReadOrderControl_Lns1-8b[0].f1_39[0]', '/Ff': 8388608, '/V': '7b'}, 'topmostSubform[0].Page1[0].ReadOrderControl_Lns1-8b[0].f1_40[0]': {'/FT': '/Tx', '/T': 'topmostSubform[0].Page1[0].ReadOrderControl_Lns1-8b[0].f1_40[0]', '/Ff': 8388608, '/V': '8a'}, 'topmostSubform[0].Page1[0].ReadOrderControl_Lns1-8b[0].f1_41[0]': {'/FT': '/Tx', '/T': 'topmostSubform[0].Page1[0].ReadOrderControl_Lns1-8b[0].f1_41[0]', '/Ff': 8388608, '/V': '8b'}, 'topmostSubform[0].Page1[0].f1_42[0]': {'/FT': '/Tx', '/T': 'topmostSubform[0].Page1[0].f1_42[0]', '/Ff': 8388608, '/V': '444'}, 'topmostSubform[0].Page1[0].f1_43[0]': {'/FT': '/Tx', '/T': 'topmostSubform[0].Page1[0].f1_43[0]', '/Ff': 8388608, '/V': '666'}, 'topmostSubform[0].Page1[0].f1_44[0]': {'/FT': '/Tx', '/T': 'topmostSubform[0].Page1[0].f1_44[0]', '/Ff': 8388608, '/V': '1020'}, 'topmostSubform[0].Page1[0].f1_45[0]': {'/FT': '/Tx', '/T': 'topmostSubform[0].Page1[0].f1_45[0]', '/Ff': 8388608, '/V': '1040'}, 'topmostSubform[0].Page2[0].f2_03[0]': {'/FT': '/Tx', '/T': 'topmostSubform[0].Page2[0].f2_03[0]', '/Ff': 8388608, '/V': '12b'}, 'topmostSubform[0].Page2[0].f2_05[0]': {'/FT': '/Tx', '/T': 'topmostSubform[0].Page2[0].f2_05[0]', '/Ff': 8388608, '/V': '13b'}, 'topmostSubform[0].Page2[0].f2_06[0]': {'/FT': '/Tx', '/T': 'topmostSubform[0].Page2[0].f2_06[0]', '/Ff': 8388608, '/V': '14'}, 'topmostSubform[0].Page2[0].f2_07[0]': {'/FT': '/Tx', '/T': 'topmostSubform[0].Page2[0].f2_07[0]', '/Ff': 8388608, '/V': '15'}, 'topmostSubform[0].Page2[0].f2_08[0]': {'/FT': '/Tx', '/T': 'topmostSubform[0].Page2[0].f2_08[0]', '/Ff': 8388608, '/V': '16'}, 'topmostSubform[0].Page2[0].f2_09[0]': {'/FT': '/Tx', '/T': 'topmostSubform[0].Page2[0].f2_09[0]', '/Ff': 8388608, '/V': '17'}, 'topmostSubform[0].Page2[0].f2_14[0]': {'/FT': '/Tx', '/T': 'topmostSubform[0].Page2[0].f2_14[0]', '/Ff': 8388608, '/V': '18e'}, 'topmostSubform[0].Page2[0].f2_15[0]': {'/FT': '/Tx', '/T': 'topmostSubform[0].Page2[0].f2_15[0]', '/Ff': 8388608, '/V': '19'}, 'topmostSubform[0].Page2[0].f2_16[0]': {'/FT': '/Tx', '/T': 'topmostSubform[0].Page2[0].f2_16[0]', '/Ff': 8388608, '/V': '20'}, 'topmostSubform[0].Page2[0].f2_17[0]': {'/FT': '/Tx', '/T': 'topmostSubform[0].Page2[0].f2_17[0]', '/Ff': 8388608, '/V': '21a'}, 'topmostSubform[0].Page2[0].f2_21[0]': {'/FT': '/Tx', '/T': 'topmostSubform[0].Page2[0].f2_21[0]', '/Ff': 8388608, '/V': '23'}, 'topmostSubform[0].Page2[0].ThirdPartyDesignee[0].f2_23[0]': {'/FT': '/Tx', '/T': 'topmostSubform[0].Page2[0].ThirdPartyDesignee[0].f2_23[0]', '/Ff': 8392704, '/V': 'No Namer'}, 'topmostSubform[0].Page2[0].ThirdPartyDesignee[0].f2_24[0]': {'/FT': '/Tx', '/T': 'topmostSubform[0].Page2[0].ThirdPartyDesignee[0].f2_24[0]', '/Ff': 8388608, '/V': '(000)-111-2222'}, 'topmostSubform[0].Page2[0].ThirdPartyDesignee[0].f2_25[0]': {'/FT': '/Tx', '/T': 'topmostSubform[0].Page2[0].ThirdPartyDesignee[0].f2_25[0]', '/Ff': 25165824, '/V': '57610'}, 'topmostSubform[0].Page2[0].Signatures[0].f2_26[0]': {'/FT': '/Tx', '/T': 'topmostSubform[0].Page2[0].Signatures[0].f2_26[0]', '/Ff': 8388608, '/V': 'Ficiton Writer'}}\n",
      "-----------------------------------------------------------------------------------------------------------------------------\n",
      "\n",
      "<class 'dict'>\n",
      "{'topmostSubform[0].Page1[0].f1_02[0]': 'U.N.', 'topmostSubform[0].Page1[0].f1_03[0]': 'Owen', 'topmostSubform[0].Page1[0].YourSocial_ReadOrderControl[0].f1_04[0]': '123456789', 'topmostSubform[0].Page1[0].ReadOrderControl[0].Address[0].f1_08[0]': '666 Enigma St.', 'topmostSubform[0].Page1[0].ReadOrderControl[0].Address[0].f1_10[0]': 'Soldier Island, AC 32323', 'topmostSubform[0].Page1[0].ReadOrderControl[0].Address[0].f1_11[0]': 'Christieland', 'topmostSubform[0].Page1[0].ReadOrderControl[0].Address[0].f1_13[0]': '101010', 'topmostSubform[0].Page1[0].Dependents[0].Table_Dependents[0].Row1[0].f1_14[0]': 'Philip Lombard', 'topmostSubform[0].Page1[0].Dependents[0].Table_Dependents[0].Row1[0].f1_15[0]': '341389080', 'topmostSubform[0].Page1[0].Dependents[0].Table_Dependents[0].Row1[0].f1_16[0]': 'Son', 'topmostSubform[0].Page1[0].Dependents[0].Table_Dependents[0].Row2[0].f1_17[0]': 'Vera Claythorne', 'topmostSubform[0].Page1[0].Dependents[0].Table_Dependents[0].Row2[0].f1_18[0]': '331890766', 'topmostSubform[0].Page1[0].Dependents[0].Table_Dependents[0].Row2[0].f1_19[0]': 'Daughter', 'topmostSubform[0].Page1[0].Dependents[0].Table_Dependents[0].Row3[0].f1_20[0]': 'Edward Armstrong', 'topmostSubform[0].Page1[0].Dependents[0].Table_Dependents[0].Row3[0].f1_21[0]': '111111111', 'topmostSubform[0].Page1[0].Dependents[0].Table_Dependents[0].Row3[0].f1_22[0]': 'Doctor', 'topmostSubform[0].Page1[0].Dependents[0].Table_Dependents[0].Row4[0].f1_23[0]': 'General MacArthur', 'topmostSubform[0].Page1[0].Dependents[0].Table_Dependents[0].Row4[0].f1_24[0]': '444342124', 'topmostSubform[0].Page1[0].Dependents[0].Table_Dependents[0].Row4[0].f1_25[0]': 'Tyrant', 'topmostSubform[0].Page1[0].ReadOrderControl_Lns1-8b[0].f1_27[0]': '1234567890', 'topmostSubform[0].Page1[0].ReadOrderControl_Lns1-8b[0].f1_29[0]': '0987654321', 'topmostSubform[0].Page1[0].ReadOrderControl_Lns1-8b[0].f1_31[0]': 'qwertyuiop', 'topmostSubform[0].Page1[0].ReadOrderControl_Lns1-8b[0].f1_33[0]': 'hgfdsa', 'topmostSubform[0].Page1[0].ReadOrderControl_Lns1-8b[0].f1_35[0]': 'zxcvbnm', 'topmostSubform[0].Page1[0].ReadOrderControl_Lns1-8b[0].f1_26[0]': '1', 'topmostSubform[0].Page1[0].ReadOrderControl_Lns1-8b[0].f1_28[0]': '2b', 'topmostSubform[0].Page1[0].ReadOrderControl_Lns1-8b[0].f1_30[0]': '3b', 'topmostSubform[0].Page1[0].ReadOrderControl_Lns1-8b[0].f1_32[0]': '4b', 'topmostSubform[0].Page1[0].ReadOrderControl_Lns1-8b[0].f1_34[0]': '5b', 'topmostSubform[0].Page1[0].ReadOrderControl_Lns1-8b[0].f1_36[0]': '6b', 'topmostSubform[0].Page1[0].ReadOrderControl_Lns1-8b[0].f1_37[0]': '6', 'topmostSubform[0].Page1[0].ReadOrderControl_Lns1-8b[0].f1_38[0]': '7a', 'topmostSubform[0].Page1[0].ReadOrderControl_Lns1-8b[0].f1_39[0]': '7b', 'topmostSubform[0].Page1[0].ReadOrderControl_Lns1-8b[0].f1_40[0]': '8a', 'topmostSubform[0].Page1[0].ReadOrderControl_Lns1-8b[0].f1_41[0]': '8b', 'topmostSubform[0].Page1[0].f1_42[0]': '444', 'topmostSubform[0].Page1[0].f1_43[0]': '666', 'topmostSubform[0].Page1[0].f1_44[0]': '1020', 'topmostSubform[0].Page1[0].f1_45[0]': '1040', 'topmostSubform[0].Page2[0].f2_03[0]': '12b', 'topmostSubform[0].Page2[0].f2_05[0]': '13b', 'topmostSubform[0].Page2[0].f2_06[0]': '14', 'topmostSubform[0].Page2[0].f2_07[0]': '15', 'topmostSubform[0].Page2[0].f2_08[0]': '16', 'topmostSubform[0].Page2[0].f2_09[0]': '17', 'topmostSubform[0].Page2[0].f2_14[0]': '18e', 'topmostSubform[0].Page2[0].f2_15[0]': '19', 'topmostSubform[0].Page2[0].f2_16[0]': '20', 'topmostSubform[0].Page2[0].f2_17[0]': '21a', 'topmostSubform[0].Page2[0].f2_21[0]': '23', 'topmostSubform[0].Page2[0].ThirdPartyDesignee[0].f2_23[0]': 'No Namer', 'topmostSubform[0].Page2[0].ThirdPartyDesignee[0].f2_24[0]': '(000)-111-2222', 'topmostSubform[0].Page2[0].ThirdPartyDesignee[0].f2_25[0]': '57610', 'topmostSubform[0].Page2[0].Signatures[0].f2_26[0]': 'Ficiton Writer'}\n"
     ]
    }
   ],
   "source": [
    "\n",
    "from PyPDF2 import PdfFileReader\n",
    "import sys\n",
    "\n",
    "path = open(file='./f1040_Agatha_Christie.pdf', mode='rb')\n",
    "pdf_reader = PdfFileReader(stream=path, strict=True, warndest=sys.stderr, overwriteWarnings=True)\n",
    "form_output = bytearray()\n",
    "fields = pdf_reader.getFields(fileobj=form_output)\n",
    "print(type(fields))\n",
    "print(fields, end='\\n' + 125 * '-' + '\\n\\n')\n",
    "\n",
    "text_form_output = bytes()\n",
    "text_fields = pdf_reader.getFormTextFields()\n",
    "print(type(text_fields))\n",
    "print(text_fields)\n"
   ]
  },
  {
   "cell_type": "markdown",
   "metadata": {},
   "source": [
    "getNumPages()<br>\n",
    "Calculates the number of pages in this PDF file.<br>\n",
    "\n",
    "Returns:\tnumber of pages<br>\n",
    "Return type:\tint<br>\n",
    "Raises PdfReadError:<br>\n",
    " \tif file is encrypted and restrictions prevent this action."
   ]
  },
  {
   "cell_type": "markdown",
   "metadata": {},
   "source": [
    "numPages<br><br>\n",
    "Read-only property that accesses the getNumPages() function."
   ]
  },
  {
   "cell_type": "code",
   "execution_count": 75,
   "metadata": {},
   "outputs": [
    {
     "name": "stdout",
     "output_type": "stream",
     "text": [
      "7\n"
     ]
    }
   ],
   "source": [
    "\n",
    "from PyPDF2 import PdfFileReader\n",
    "import sys\n",
    "\n",
    "path = open(file='./Python- OCR for PDF or Compare textract, pytesseract, and pyocr.pdf', mode='rb')\n",
    "pdf_reader = PdfFileReader(stream=path, strict=True, warndest=sys.stderr, overwriteWarnings=True)\n",
    "num_pages = pdf_reader.numPages\n",
    "print(num_pages)\n",
    "assert pdf_reader.numPages == pdf_reader.getNumPages()\n"
   ]
  },
  {
   "cell_type": "markdown",
   "metadata": {},
   "source": [
    "getOutlines(node=None, outlines=None)<br><br>\n",
    "Retrieves the document outline present in the document.\n",
    "\n",
    "Returns:\ta nested list of Destinations."
   ]
  },
  {
   "cell_type": "markdown",
   "metadata": {},
   "source": [
    "outlines<br><br>\n",
    "Read-only property that accesses the\n",
    "getOutlines() function."
   ]
  },
  {
   "cell_type": "code",
   "execution_count": 79,
   "metadata": {},
   "outputs": [
    {
     "name": "stdout",
     "output_type": "stream",
     "text": [
      "<class 'list'>\n",
      "[]\n"
     ]
    }
   ],
   "source": [
    "\n",
    "from PyPDF2 import PdfFileReader\n",
    "import sys\n",
    "\n",
    "path = open(file='./Python- OCR for PDF or Compare textract, pytesseract, and pyocr.pdf', mode='rb')\n",
    "pdf_reader = PdfFileReader(stream=path, strict=True, warndest=sys.stderr, overwriteWarnings=True)\n",
    "out = pdf_reader.outlines\n",
    "print(type(out))\n",
    "print(out)\n",
    "assert pdf_reader.outlines == pdf_reader.getOutlines()\n"
   ]
  },
  {
   "cell_type": "markdown",
   "metadata": {},
   "source": [
    "getPage(pageNumber)<br><br>\n",
    "Retrieves a page by number from this PDF file.\n",
    "\n",
    "Parameters:\tpageNumber (int) – The page number to retrieve (pages begin at zero)<br>\n",
    "Returns:\ta PageObject instance.<br>\n",
    "Return type:\tPageObject"
   ]
  },
  {
   "cell_type": "markdown",
   "metadata": {},
   "source": [
    "pages<br><br>\n",
    "Read-only property that emulates a list based upon the getNumPages() and getPage() methods."
   ]
  },
  {
   "cell_type": "code",
   "execution_count": 84,
   "metadata": {},
   "outputs": [
    {
     "name": "stdout",
     "output_type": "stream",
     "text": [
      "<class 'PyPDF2.pdf.PageObject'>\n",
      "{'/Type': '/Page', '/Resources': {'/ProcSet': ['/PDF', '/Text', '/ImageB', '/ImageC', '/ImageI'], '/ExtGState': {'/G3': IndirectObject(3, 0), '/G5': IndirectObject(5, 0), '/G10': IndirectObject(10, 0)}, '/XObject': {'/X29': IndirectObject(29, 0), '/X30': IndirectObject(30, 0), '/X31': IndirectObject(31, 0), '/X32': IndirectObject(32, 0), '/X33': IndirectObject(33, 0)}, '/Font': {'/F4': IndirectObject(4, 0), '/F13': IndirectObject(13, 0), '/F14': IndirectObject(14, 0), '/F26': IndirectObject(26, 0), '/F27': IndirectObject(27, 0), '/F28': IndirectObject(28, 0)}}, '/MediaBox': [0, 0, 612, 792], '/Contents': IndirectObject(34, 0), '/StructParents': 1, '/Parent': IndirectObject(77, 0)}\n",
      "-----------------------------------------------------------------------------------------------------------------------------\n",
      "\n",
      "<class 'PyPDF2.utils.ConvertFunctionsToVirtualList'>\n",
      "<PyPDF2.utils.ConvertFunctionsToVirtualList object at 0x1168e9650>\n"
     ]
    }
   ],
   "source": [
    "\n",
    "from PyPDF2 import PdfFileReader\n",
    "import sys\n",
    "\n",
    "path = open(file='./Python- OCR for PDF or Compare textract, pytesseract, and pyocr.pdf', mode='rb')\n",
    "pdf_reader = PdfFileReader(stream=path, strict=True, warndest=sys.stderr, overwriteWarnings=True)\n",
    "first_page = pdf_reader.getPage(pageNumber=1)\n",
    "print(type(first_page))\n",
    "print(first_page, end='\\n' + 125 * '-' + '\\n\\n')\n",
    "page_list = pdf_reader.pages\n",
    "print(type(page_list))\n",
    "print(page_list)\n"
   ]
  },
  {
   "cell_type": "markdown",
   "metadata": {},
   "source": [
    "getPageLayout()<br><br>\n",
    "Get the page layout. See setPageLayout() for a description of valid layouts.\n",
    "\n",
    "Returns:\tPage layout currently being used.\n",
    "Return type:\tstr, None if not specified"
   ]
  },
  {
   "cell_type": "markdown",
   "metadata": {},
   "source": [
    "getPageMode()<br><br>\n",
    "Get the page mode. See setPageMode() for a description of valid modes.\n",
    "\n",
    "Returns:\tPage mode currently being used.\n",
    "Return type:\tstr, None if not specified"
   ]
  },
  {
   "cell_type": "code",
   "execution_count": 93,
   "metadata": {},
   "outputs": [
    {
     "name": "stdout",
     "output_type": "stream",
     "text": [
      "Page Layouts\n",
      "------------\n",
      "/NoLayout\n",
      "/SinglePage\n",
      "/OneColumn\n",
      "/TwoColumnLeft\n",
      "/TwoColumnRight\n",
      "/TwoPageLeft\n",
      "/TwoPageRight\n",
      "\n",
      "Page Modes\n",
      "----------\n",
      "/UseNone\n",
      "/UseOutlines\n",
      "/UseThumbs\n",
      "/Fullscreen\n",
      "/UseOC\n",
      "/UseAttachments\n"
     ]
    },
    {
     "name": "stderr",
     "output_type": "stream",
     "text": [
      "UserWarning: Mode should be one of: /UseNone, /UseOutlines, /UseThumbs, /FullScreen, /UseOC, /UseAttachments [pdf.py:1035]\n"
     ]
    }
   ],
   "source": [
    "\n",
    "from PyPDF2 import PdfFileReader, PdfFileWriter\n",
    "import sys\n",
    "\n",
    "path = open(file='./Python- OCR for PDF or Compare textract, pytesseract, and pyocr.pdf', mode='rb')\n",
    "pdf_reader = PdfFileReader(stream=path, strict=True, warndest=sys.stderr, overwriteWarnings=True)\n",
    "pdf_writer = PdfFileWriter()\n",
    "pdf_writer.addPage(pdf_reader.getPage(pageNumber=1))\n",
    "pdf_writer.addBlankPage()\n",
    "\n",
    "layouts = ['/NoLayout', '/SinglePage', '/OneColumn', '/TwoColumnLeft', '/TwoColumnRight', '/TwoPageLeft', '/TwoPageRight']\n",
    "print('Page Layouts', end='\\n' + 12 * '-' + '\\n')\n",
    "for layout in layouts:\n",
    "    \"\"\"Set each possible type of layouts\"\"\"\n",
    "    pdf_writer.setPageLayout(layout=layout)\n",
    "    pdf_writer.write(open(file='./new_pdf', mode='wb'))\n",
    "    pdf_reader = PdfFileReader(stream='./new_pdf', strict=True, warndest=sys.stderr, overwriteWarnings=True)\n",
    "    print(pdf_reader.getPageLayout())\n",
    "    \n",
    "modes = ['/UseNone', '/UseOutlines', '/UseThumbs', '/Fullscreen', '/UseOC', '/UseAttachments']\n",
    "print('\\nPage Modes', end='\\n' + 10 * '-' + '\\n')\n",
    "for mode in modes:\n",
    "    \"\"\"Set each possible type of mode\"\"\"\n",
    "    pdf_writer.setPageMode(mode=mode)\n",
    "    pdf_writer.write(open(file='./new_pdf', mode='wb'))\n",
    "    pdf_reader = PdfFileReader(stream='./new_pdf', strict=True, warndest=sys.stderr, overwriteWarnings=True)\n",
    "    print(pdf_reader.getPageMode())"
   ]
  },
  {
   "cell_type": "markdown",
   "metadata": {},
   "source": [
    "getPageNumber(page)<br><br>\n",
    "Retrieve page number of a given PageObject\n",
    "\n",
    "Parameters:<br><br>\n",
    "page (PageObject) – The page to get page number. Should be an instance of PageObject<br>\n",
    "Returns:\tthe page number or -1 if page not found<br>\n",
    "Return type:\tint"
   ]
  },
  {
   "cell_type": "code",
   "execution_count": 102,
   "metadata": {},
   "outputs": [
    {
     "name": "stdout",
     "output_type": "stream",
     "text": [
      "3\n",
      "2\n",
      "4\n",
      "6\n",
      "1\n",
      "6\n",
      "1\n",
      "1\n",
      "1\n",
      "5\n"
     ]
    }
   ],
   "source": [
    "\n",
    "from PyPDF2 import PdfFileReader\n",
    "import random\n",
    "import sys\n",
    "\n",
    "path = open(file='./Python- OCR for PDF or Compare textract, pytesseract, and pyocr.pdf', mode='rb')\n",
    "pdf_reader = PdfFileReader(stream=path, strict=True, warndest=sys.stderr, overwriteWarnings=True)\n",
    "\n",
    "for trial in range(10):\n",
    "    \"\"\"Get random pages 10 times\"\"\"\n",
    "    random_page_num = random.randrange(pdf_reader.getNumPages())\n",
    "    random_page = pdf_reader.getPage(pageNumber=random_page_num)\n",
    "    print(pdf_reader.getPageNumber(page=random_page))\n"
   ]
  },
  {
   "cell_type": "markdown",
   "metadata": {},
   "source": [
    "getXmpMetadata()<br><br>\n",
    "Retrieves XMP (Extensible Metadata Platform) data from the PDF document root.<br>\n",
    "\n",
    "Returns:\ta XmpInformation instance that can be used to access XMP metadata from the document.<br>\n",
    "Return type:\tXmpInformation or None if no metadata was found on the document root."
   ]
  },
  {
   "cell_type": "code",
   "execution_count": 104,
   "metadata": {},
   "outputs": [
    {
     "name": "stdout",
     "output_type": "stream",
     "text": [
      "<class 'NoneType'>\n",
      "None\n"
     ]
    }
   ],
   "source": [
    "\n",
    "from PyPDF2 import PdfFileReader\n",
    "import sys\n",
    "\n",
    "path = open(file='./Python- OCR for PDF or Compare textract, pytesseract, and pyocr.pdf', mode='rb')\n",
    "pdf_reader = PdfFileReader(stream=path, strict=True, warndest=sys.stderr, overwriteWarnings=True)\n",
    "xmp = pdf_reader.xmpMetadata\n",
    "print(type(xmp))\n",
    "print(xmp)\n",
    "assert pdf_reader.xmpMetadata == pdf_reader.getXmpMetadata()\n"
   ]
  },
  {
   "cell_type": "code",
   "execution_count": null,
   "metadata": {},
   "outputs": [],
   "source": []
  }
 ],
 "metadata": {
  "kernelspec": {
   "display_name": "Python 3",
   "language": "python",
   "name": "python3"
  },
  "language_info": {
   "codemirror_mode": {
    "name": "ipython",
    "version": 3
   },
   "file_extension": ".py",
   "mimetype": "text/x-python",
   "name": "python",
   "nbconvert_exporter": "python",
   "pygments_lexer": "ipython3",
   "version": "3.7.6"
  },
  "varInspector": {
   "cols": {
    "lenName": 16,
    "lenType": 16,
    "lenVar": 40
   },
   "kernels_config": {
    "python": {
     "delete_cmd_postfix": "",
     "delete_cmd_prefix": "del ",
     "library": "var_list.py",
     "varRefreshCmd": "print(var_dic_list())"
    },
    "r": {
     "delete_cmd_postfix": ") ",
     "delete_cmd_prefix": "rm(",
     "library": "var_list.r",
     "varRefreshCmd": "cat(var_dic_list()) "
    }
   },
   "types_to_exclude": [
    "module",
    "function",
    "builtin_function_or_method",
    "instance",
    "_Feature"
   ],
   "window_display": false
  }
 },
 "nbformat": 4,
 "nbformat_minor": 4
}
