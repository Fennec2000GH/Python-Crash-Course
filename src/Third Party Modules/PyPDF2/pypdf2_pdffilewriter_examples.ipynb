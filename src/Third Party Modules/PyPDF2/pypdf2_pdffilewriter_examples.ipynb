{
 "cells": [
  {
   "cell_type": "markdown",
   "metadata": {},
   "source": [
    "# PyPDF2"
   ]
  },
  {
   "cell_type": "markdown",
   "metadata": {},
   "source": [
    "Basic Example with Reading, Writing, and Copying PDFs"
   ]
  },
  {
   "cell_type": "markdown",
   "metadata": {},
   "source": [
    "## PdfFileWriter Class"
   ]
  },
  {
   "cell_type": "markdown",
   "metadata": {},
   "source": [
    "class PyPDF2.PdfFileWriter<br><br>\n",
    "This class supports writing PDF files out, given pages produced by another class (typically PdfFileReader)."
   ]
  },
  {
   "cell_type": "markdown",
   "metadata": {},
   "source": [
    "addAttachment(fname, fdata)<br><br>\n",
    "Embed a file inside the PDF.\n",
    "\n",
    "Parameters:<br><br>\n",
    "fname (str) – The filename to display.<br>\n",
    "fdata (str) – The data in the file.<br>\n",
    "Reference: https://www.adobe.com/content/dam/Adobe/en/devnet/acrobat/pdfs/PDF32000_2008.pdf<br>\n",
    "Section 7.11.3"
   ]
  },
  {
   "cell_type": "code",
   "execution_count": 4,
   "metadata": {},
   "outputs": [],
   "source": [
    "\n",
    "from PyPDF2 import PdfFileReader, PdfFileWriter\n",
    "import sys\n",
    "\n",
    "path = open(file='./Python- OCR for PDF or Compare textract, pytesseract, and pyocr.pdf', mode='rb')\n",
    "pdf_reader = PdfFileReader(stream=path, strict=True, warndest=sys.stderr, overwriteWarnings=True)\n",
    "pdf_writer = PdfFileWriter()\n",
    "pdf_\n",
    "\n",
    "\n"
   ]
  },
  {
   "cell_type": "markdown",
   "metadata": {},
   "source": [
    "addBlankPage(width=None, height=None)<br><br>\n",
    "Appends a blank page to this PDF file and returns it. If no page size is specified, use the size of the last page.\n",
    "\n",
    "Parameters:<br><br>\n",
    "width (float) – The width of the new page expressed in default user space units.<br>\n",
    "height (float) – The height of the new page expressed in default user space units.<br>\n",
    "Returns:\t\n",
    "the newly appended page\n",
    "\n",
    "Return type:\t\n",
    "PageObject\n",
    "\n",
    "Raises PageSizeNotDefinedError:\n",
    " \t\n",
    "if width and height are not defined and previous page does not exist."
   ]
  },
  {
   "cell_type": "code",
   "execution_count": null,
   "metadata": {},
   "outputs": [],
   "source": []
  },
  {
   "cell_type": "markdown",
   "metadata": {},
   "source": [
    "addBookmark(title, pagenum, parent=None, color=None, bold=False, italic=False, fit='/Fit', *args)<br><br>\n",
    "Add a bookmark to this PDF file.<br>\n",
    "\n",
    "Parameters:<br><br>\n",
    "title (str) – Title to use for this bookmark.<br>\n",
    "pagenum (int) – Page number this bookmark will point to.<br>\n",
    "parent – A reference to a parent bookmark to create nested bookmarks.<br>\n",
    "color (tuple) – Color of the bookmark as a red, green, blue tuple from 0.0 to 1.0<br>\n",
    "bold (bool) – Bookmark is bold<br>\n",
    "italic (bool) – Bookmark is italic<br>\n",
    "fit (str) – The fit of the destination page. See addLink() for details."
   ]
  },
  {
   "cell_type": "code",
   "execution_count": null,
   "metadata": {},
   "outputs": [],
   "source": []
  },
  {
   "cell_type": "markdown",
   "metadata": {},
   "source": [
    "addJS(javascript)<br><br>\n",
    "Add Javascript which will launch upon opening this PDF.\n",
    "\n",
    "Parameters:<br><br>\n",
    "javascript (str) – Your Javascript."
   ]
  },
  {
   "cell_type": "code",
   "execution_count": null,
   "metadata": {},
   "outputs": [],
   "source": []
  },
  {
   "cell_type": "markdown",
   "metadata": {},
   "source": [
    "addLink(pagenum, pagedest, rect, border=None, fit='/Fit', *args)<br><br>\n",
    "Add an internal link from a rectangular area to the specified page.\n",
    "\n",
    "Parameters:<br><br>\n",
    "pagenum (int) – index of the page on which to place the link.<br>\n",
    "pagedest (int) – index of the page to which the link should go.<br>\n",
    "rect – RectangleObject or array of four integers specifying the clickable rectangular area <br>[xLL, yLL, xUR, yUR], or string in the form \"[ xLL yLL xUR yUR ]\".<br>\n",
    "border – if provided, an array describing border-drawing properties. See the PDF spec for details. No border will be drawn if this argument is omitted.<br>\n",
    "fit (str) – Page fit or ‘zoom’ option (see below). Additional arguments may need to be supplied. Passing None will be read as a null value for that coordinate."
   ]
  },
  {
   "cell_type": "markdown",
   "metadata": {},
   "source": [
    "Valid zoom arguments (see Table 8.2 of the PDF 1.7 reference for details):<br>\n",
    "/Fit\tNo additional arguments<br>\n",
    "/XYZ\t[left] [top] [zoomFactor]<br>\n",
    "/FitH\t[top]<br>\n",
    "/FitV\t[left]<br>\n",
    "/FitR\t[left] [bottom] [right] [top]<br>\n",
    "/FitB\tNo additional arguments<br>\n",
    "/FitBH\t[top]<br>\n",
    "/FitBV\t[left]<br>\n"
   ]
  },
  {
   "cell_type": "code",
   "execution_count": null,
   "metadata": {},
   "outputs": [],
   "source": []
  },
  {
   "cell_type": "markdown",
   "metadata": {},
   "source": [
    "addMetadata(infos)<br><br>\n",
    "Add custom metadata to the output.<br>\n",
    "\n",
    "Parameters:<br><br>\n",
    "infos (dict) – a Python dictionary where each key is a field and each value is your new metadata."
   ]
  },
  {
   "cell_type": "code",
   "execution_count": null,
   "metadata": {},
   "outputs": [],
   "source": []
  },
  {
   "cell_type": "markdown",
   "metadata": {},
   "source": [
    "addPage(page)<br><br>\n",
    "Adds a page to this PDF file. The page is usually acquired from a PdfFileReader instance.<br>\n",
    "\n",
    "Parameters:<br><br>\n",
    "page (PageObject) – The page to add to the document. Should be an instance of PageObject"
   ]
  },
  {
   "cell_type": "code",
   "execution_count": null,
   "metadata": {},
   "outputs": [],
   "source": []
  },
  {
   "cell_type": "markdown",
   "metadata": {},
   "source": [
    "appendPagesFromReader(reader, after_page_append=None)<br><br>\n",
    "Copy pages from reader to writer. Includes an optional callback parameter which is invoked after pages are appended to the writer.<br><br>\n",
    "\n",
    "Parameters:<br><br>\n",
    "reader – a PdfFileReader object from which to copy page annotations to this writer object. The writer’s annots will then be updated :callback after_page_append (function): Callback function that is invoked after each page is appended to the writer.<br><br>\n",
    "Callback signature:<br>\n",
    "param writer_pageref (PDF page reference):<br>\n",
    " Reference to the page appended to the writer."
   ]
  },
  {
   "cell_type": "code",
   "execution_count": null,
   "metadata": {},
   "outputs": [],
   "source": []
  },
  {
   "cell_type": "markdown",
   "metadata": {},
   "source": [
    "cloneDocumentFromReader(reader, after_page_append=None)<br><br>\n",
    "Create a copy (clone) of a document from a PDF file reader<br><br>\n",
    "\n",
    "Parameters:<br><br>\n",
    "reader – PDF file reader instance from which the clone should be created.\n",
    "\n",
    "Callback after_page_append (function):\n",
    " \t\n",
    "Callback function that is invoked after each page is appended to the writer. Signature includes a reference to the appended page (delegates to appendPagesFromReader). Callback signature:\n",
    "\n",
    "param writer_pageref (PDF page reference):\n",
    " \tReference to the page just appended to the document."
   ]
  },
  {
   "cell_type": "code",
   "execution_count": null,
   "metadata": {},
   "outputs": [],
   "source": []
  },
  {
   "cell_type": "markdown",
   "metadata": {},
   "source": [
    "cloneReaderDocumentRoot(reader)<br><br>\n",
    "Copy the reader document root to the writer.<br>\n",
    "\n",
    "Parameters:<br><br>\n",
    "reader – PdfFileReader from the document root should be copied.\n",
    ":callback after_page_append"
   ]
  },
  {
   "cell_type": "code",
   "execution_count": null,
   "metadata": {},
   "outputs": [],
   "source": []
  },
  {
   "cell_type": "markdown",
   "metadata": {},
   "source": [
    "encrypt(user_pwd, owner_pwd=None, use_128bit=True)<br><br>\n",
    "Encrypt this PDF file with the PDF Standard encryption handler.<br><br>\n",
    "\n",
    "Parameters:<br><br>\n",
    "user_pwd (str) – The “user password”, which allows for opening and reading the PDF file with the restrictions provided.<br>\n",
    "owner_pwd (str) – The “owner password”, which allows for opening the PDF files without any restrictions. By default, the owner password is the same as the user password.<br>\n",
    "use_128bit (bool) – flag as to whether to use 128bit encryption. When false, 40bit encryption will be used. By default, this flag is on."
   ]
  },
  {
   "cell_type": "code",
   "execution_count": null,
   "metadata": {},
   "outputs": [],
   "source": []
  },
  {
   "cell_type": "markdown",
   "metadata": {},
   "source": [
    "insertBlankPage(width=None, height=None, index=0)<br><br>\n",
    "Inserts a blank page to this PDF file and returns it. If no page size is specified, use the size of the last page.<br><br>\n",
    "\n",
    "Parameters:<br><br>\n",
    "width (float) – The width of the new page expressed in default user space units.<br>\n",
    "height (float) – The height of the new page expressed in default user space units.<br>\n",
    "index (int) – Position to add the page.<br><br>\n",
    "Returns:<br>\n",
    "the newly appended page<br><br>\n",
    "\n",
    "Return type:<br>\n",
    "PageObject<br>\n",
    "\n",
    "Raises PageSizeNotDefinedError:<br>\n",
    " \t\n",
    "if width and height are not defined and previous page does not exist."
   ]
  },
  {
   "cell_type": "code",
   "execution_count": null,
   "metadata": {},
   "outputs": [],
   "source": []
  },
  {
   "cell_type": "markdown",
   "metadata": {},
   "source": [
    "insertPage(page, index=0)<br><br>\n",
    "Insert a page in this PDF file. The page is usually acquired from a PdfFileReader instance.<br><br>\n",
    "\n",
    "Parameters:<br><br>\n",
    "page (PageObject) – The page to add to the document. This argument should be an instance of PageObject.<br>\n",
    "index (int) – Position at which the page will be inserted."
   ]
  },
  {
   "cell_type": "code",
   "execution_count": null,
   "metadata": {},
   "outputs": [],
   "source": []
  },
  {
   "cell_type": "markdown",
   "metadata": {},
   "source": [
    "removeImages(ignoreByteStringObject=False)<br><br>\n",
    "Removes images from this output.<br>\n",
    "\n",
    "Parameters:<br><br>\n",
    "ignoreByteStringObject (bool) – optional parameter to ignore ByteString Objects."
   ]
  },
  {
   "cell_type": "code",
   "execution_count": null,
   "metadata": {},
   "outputs": [],
   "source": []
  },
  {
   "cell_type": "markdown",
   "metadata": {},
   "source": [
    "removeLinks()<br><br>\n",
    "Removes links and annotations from this output."
   ]
  },
  {
   "cell_type": "code",
   "execution_count": null,
   "metadata": {},
   "outputs": [],
   "source": []
  },
  {
   "cell_type": "markdown",
   "metadata": {},
   "source": [
    "removeLinks()<br><br>\n",
    "Removes links and annotations from this output."
   ]
  },
  {
   "cell_type": "code",
   "execution_count": null,
   "metadata": {},
   "outputs": [],
   "source": []
  },
  {
   "cell_type": "markdown",
   "metadata": {},
   "source": [
    "updatePageFormFieldValues(page, fields)<br><br>\n",
    "Update the form field values for a given page from a fields dictionary. Copy field texts and values from fields to page.<br><br>\n",
    "\n",
    "Parameters:<br><br>\n",
    "page – Page reference from PDF writer where the annotations and field data will be updated.<br>\n",
    "fields – a Python dictionary of field names (/T) and text values (/V)"
   ]
  },
  {
   "cell_type": "code",
   "execution_count": null,
   "metadata": {},
   "outputs": [],
   "source": []
  },
  {
   "cell_type": "markdown",
   "metadata": {},
   "source": [
    "write(stream)<br><br>\n",
    "Writes the collection of pages added to this object out as a PDF file.\n",
    "\n",
    "Parameters:<br><br>\n",
    "stream – An object to write the file to. The object must support the write method and the tell method, similar to a file object."
   ]
  },
  {
   "cell_type": "code",
   "execution_count": null,
   "metadata": {},
   "outputs": [],
   "source": []
  },
  {
   "cell_type": "code",
   "execution_count": null,
   "metadata": {},
   "outputs": [],
   "source": []
  }
 ],
 "metadata": {
  "kernelspec": {
   "display_name": "Python 3",
   "language": "python",
   "name": "python3"
  },
  "language_info": {
   "codemirror_mode": {
    "name": "ipython",
    "version": 3
   },
   "file_extension": ".py",
   "mimetype": "text/x-python",
   "name": "python",
   "nbconvert_exporter": "python",
   "pygments_lexer": "ipython3",
   "version": "3.7.6"
  },
  "varInspector": {
   "cols": {
    "lenName": 16,
    "lenType": 16,
    "lenVar": 40
   },
   "kernels_config": {
    "python": {
     "delete_cmd_postfix": "",
     "delete_cmd_prefix": "del ",
     "library": "var_list.py",
     "varRefreshCmd": "print(var_dic_list())"
    },
    "r": {
     "delete_cmd_postfix": ") ",
     "delete_cmd_prefix": "rm(",
     "library": "var_list.r",
     "varRefreshCmd": "cat(var_dic_list()) "
    }
   },
   "types_to_exclude": [
    "module",
    "function",
    "builtin_function_or_method",
    "instance",
    "_Feature"
   ],
   "window_display": false
  }
 },
 "nbformat": 4,
 "nbformat_minor": 4
}
