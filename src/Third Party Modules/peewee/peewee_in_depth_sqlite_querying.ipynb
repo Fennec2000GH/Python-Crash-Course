{
 "cells": [
  {
   "cell_type": "markdown",
   "metadata": {},
   "source": [
    "# peewee in depth Sqlite"
   ]
  },
  {
   "cell_type": "markdown",
   "metadata": {},
   "source": [
    "## Query Builder"
   ]
  },
  {
   "cell_type": "code",
   "execution_count": 1,
   "metadata": {},
   "outputs": [],
   "source": [
    "\n",
    "from peewee import SqliteDatabase\n"
   ]
  },
  {
   "cell_type": "markdown",
   "metadata": {},
   "source": [
    "## class Node\n",
    "Base-class for all components which make up the AST for a SQL query."
   ]
  },
  {
   "cell_type": "markdown",
   "metadata": {},
   "source": [
    "staticcopy(method)<br>\n",
    "Decorator to use with Node methods that mutate the node’s state. This allows method-chaining"
   ]
  },
  {
   "cell_type": "markdown",
   "metadata": {},
   "source": [
    "unwrap()<br>\n",
    "API for recursively unwrapping “wrapped” nodes. Base case is to return self."
   ]
  },
  {
   "cell_type": "markdown",
   "metadata": {},
   "source": [
    "is_alias()<br>\n",
    "API for determining if a node, at any point, has been explicitly aliased by the user."
   ]
  },
  {
   "cell_type": "markdown",
   "metadata": {},
   "source": [
    "## classSource([alias=None])\n",
    "A source of row tuples, for example a table, join, or select query. By default provides a “magic” attribute named “c” that is a factory for column/attribute lookups, for example:"
   ]
  },
  {
   "cell_type": "markdown",
   "metadata": {},
   "source": [
    "alias(name)<br>\n",
    "Returns a copy of the object with the given alias applied."
   ]
  },
  {
   "cell_type": "markdown",
   "metadata": {},
   "source": [
    "select(*columns)<br><br>\n",
    "\n",
    "Parameters:\tcolumns – Column instances, expressions, functions, sub-queries, or anything else that you would like to select.<br><br>\n",
    "\n",
    "Create a Select query on the table. If the table explicitly declares columns and no columns are provided, then by default all the table’s defined columns will be selected."
   ]
  },
  {
   "cell_type": "markdown",
   "metadata": {},
   "source": [
    "join(dest[, join_type='INNER'[, on=None]])<br><br>\n",
    "\n",
    "Parameters:<br>\n",
    "dest (Source) – Join the table with the given destination.<br>\n",
    "join_type (str) – Join type.<br>\n",
    "on – Expression to use as join predicate.<br><br>\n",
    "\n",
    "Returns:<br>\n",
    "a Join instance.<br><br>\n",
    "\n",
    "Join type may be one of:<br>\n",
    "JOIN.INNER<br>\n",
    "JOIN.LEFT_OUTER<br>\n",
    "JOIN.RIGHT_OUTER<br>\n",
    "JOIN.FULL<br>\n",
    "JOIN.FULL_OUTER<br>\n",
    "JOIN.CROSS"
   ]
  },
  {
   "cell_type": "markdown",
   "metadata": {},
   "source": [
    "left_outer_join(dest[, on=None])<br><br>\n",
    "\n",
    "Parameters:<br>\n",
    "dest (Source) – Join the table with the given destination.<br>\n",
    "on – Expression to use as join predicate.<br><br>\n",
    "\n",
    "Returns:<br>\n",
    "a Join instance."
   ]
  },
  {
   "cell_type": "markdown",
   "metadata": {},
   "source": [
    "## class BaseTable\n",
    "Base class for table-like objects, which support JOINs via operator overloading.<br><br>\n",
    "\n",
    "__and__(dest)<br>\n",
    "Perform an INNER join on dest.<br><br>\n",
    "\n",
    "__add__(dest)<br>\n",
    "Perform a LEFT OUTER join on dest.<br><br>\n",
    "\n",
    "__sub__(dest)<br>\n",
    "Perform a RIGHT OUTER join on dest.<br><br>\n",
    "\n",
    "__or__(dest)<br>\n",
    "Perform a FULL OUTER join on dest.<br><br>\n",
    "\n",
    "__mul__(dest)<br>\n",
    "Perform a CROSS join on dest."
   ]
  },
  {
   "cell_type": "markdown",
   "metadata": {},
   "source": [
    "## classTable(name[, columns=None[, primary_key=None[, schema=None[, alias=None]]]])<br>\n",
    "Represents a table in the database (or a table-like object such as a view).<br><br>\n",
    "\n",
    "Parameters:<br>\n",
    "name (str) – Database table name<br>\n",
    "columns (tuple) – List of column names (optional).<br>\n",
    "primary_key (str) – Name of primary key column.<br>\n",
    "schema (str) – Schema name used to access table (if necessary).<br>\n",
    "alias (str) – Alias to use for table in SQL queries."
   ]
  },
  {
   "cell_type": "markdown",
   "metadata": {},
   "source": [
    "bind([database=None])<br><br>\n",
    "\n",
    "Parameters:<br>\n",
    "database – Database object.<br><br>\n",
    "\n",
    "Bind this table to the given database (or unbind by leaving empty).When a table is bound to a database, queries may be executed against it without the need to specify the database in the query’s execute method."
   ]
  },
  {
   "cell_type": "markdown",
   "metadata": {},
   "source": [
    "bind_ctx([database=None])<br><br>\n",
    "\n",
    "Parameters:<br>\n",
    "database – Database object.<br><br>\n",
    "\n",
    "Return a context manager that will bind the table to the given database for the duration of the wrapped block."
   ]
  },
  {
   "cell_type": "markdown",
   "metadata": {},
   "source": [
    "select(*columns)<br><br>\n",
    "\n",
    "Parameters:<br>\n",
    "columns – Column instances, expressions, functions, sub-queries, or anything else that you would like to select.<br><br>\n",
    "\n",
    "Create a Select query on the table. If the table explicitly declares columns and no columns are provided, then by default all the table’s defined columns will be selected."
   ]
  },
  {
   "cell_type": "markdown",
   "metadata": {},
   "source": [
    "insert([insert=None[, columns=None[, **kwargs]]])<br><br>\n",
    "\n",
    "Parameters:<br>\n",
    "insert – A dictionary mapping column to value, an iterable that yields dictionaries (i.e. list), or a Select query.<br>\n",
    "columns (list) – The list of columns to insert into when the data being inserted is not a dictionary.<br>\n",
    "kwargs – Mapping of column-name to value.<br><br>\n",
    "\n",
    "Create a Insert query into the table."
   ]
  },
  {
   "cell_type": "markdown",
   "metadata": {},
   "source": [
    "replace([insert=None[, columns=None[, **kwargs]]])<br><br>\n",
    "\n",
    "Parameters:<br>\n",
    "insert – A dictionary mapping column to value, an iterable that yields dictionaries (i.e. list), or a Select query.<br>\n",
    "columns (list) – The list of columns to insert into when the data being inserted is not a dictionary.<br>\n",
    "kwargs – Mapping of column-name to value.<br><br>\n",
    "\n",
    "Create a Insert query into the table whose conflict resolution method is to replace."
   ]
  },
  {
   "cell_type": "markdown",
   "metadata": {},
   "source": [
    "update([update=None[, **kwargs]])<br><br>\n",
    "\n",
    "Parameters:<br>\n",
    "update – A dictionary mapping column to value.<br>\n",
    "kwargs – Mapping of column-name to value.<br><br>\n",
    "\n",
    "Create a Update query for the table."
   ]
  },
  {
   "cell_type": "markdown",
   "metadata": {},
   "source": [
    "delete()<br>\n",
    "Create a Delete query for the table."
   ]
  },
  {
   "cell_type": "markdown",
   "metadata": {},
   "source": []
  },
  {
   "cell_type": "markdown",
   "metadata": {},
   "source": []
  },
  {
   "cell_type": "markdown",
   "metadata": {},
   "source": []
  },
  {
   "cell_type": "markdown",
   "metadata": {},
   "source": []
  },
  {
   "cell_type": "code",
   "execution_count": null,
   "metadata": {},
   "outputs": [],
   "source": []
  }
 ],
 "metadata": {
  "kernelspec": {
   "display_name": "Python 3",
   "language": "python",
   "name": "python3"
  },
  "language_info": {
   "codemirror_mode": {
    "name": "ipython",
    "version": 3
   },
   "file_extension": ".py",
   "mimetype": "text/x-python",
   "name": "python",
   "nbconvert_exporter": "python",
   "pygments_lexer": "ipython3",
   "version": "3.7.6"
  },
  "varInspector": {
   "cols": {
    "lenName": 16,
    "lenType": 16,
    "lenVar": 40
   },
   "kernels_config": {
    "python": {
     "delete_cmd_postfix": "",
     "delete_cmd_prefix": "del ",
     "library": "var_list.py",
     "varRefreshCmd": "print(var_dic_list())"
    },
    "r": {
     "delete_cmd_postfix": ") ",
     "delete_cmd_prefix": "rm(",
     "library": "var_list.r",
     "varRefreshCmd": "cat(var_dic_list()) "
    }
   },
   "types_to_exclude": [
    "module",
    "function",
    "builtin_function_or_method",
    "instance",
    "_Feature"
   ],
   "window_display": false
  }
 },
 "nbformat": 4,
 "nbformat_minor": 4
}
