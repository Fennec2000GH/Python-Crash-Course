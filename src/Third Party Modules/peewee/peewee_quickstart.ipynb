{
 "cells": [
  {
   "cell_type": "markdown",
   "metadata": {},
   "source": [
    "# peewee Quickstart"
   ]
  },
  {
   "cell_type": "markdown",
   "metadata": {},
   "source": [
    "http://docs.peewee-orm.com/en/latest/peewee/quickstart.html"
   ]
  },
  {
   "cell_type": "markdown",
   "metadata": {},
   "source": [
    "## Model Definition"
   ]
  },
  {
   "cell_type": "code",
   "execution_count": 1,
   "metadata": {},
   "outputs": [],
   "source": [
    "\n",
    "from peewee import Model, SqliteDatabase\n",
    "from peewee import CharField, DateField, ForeignKeyField\n",
    "\n",
    "db = SqliteDatabase('people.db')\n",
    "\n",
    "class Person(Model):\n",
    "    \"\"\"Simulates a person with a pet\"\"\"\n",
    "    name = CharField()\n",
    "    birthday = DateField()\n",
    "    \n",
    "    class Meta:\n",
    "        \"\"\"Metadata for Person database/class\"\"\"\n",
    "        database = db # This model uses the \"people.db\" database.\n",
    "\n",
    "class Pet(Model):\n",
    "    \"\"\"Simulates a house pet\"\"\"\n",
    "    owner = ForeignKeyField(Person, backref='pets')\n",
    "    name = CharField()\n",
    "    animal_type = CharField()\n",
    "    \n",
    "    class Meta:\n",
    "        \"\"\"Metadata for Pet database/class\"\"\"\n",
    "        database = db\n",
    "    \n",
    "db.connect()\n",
    "db.create_tables(models=[Person, Pet]) # this model uses the \"people.db\" database\n",
    "\n",
    "    "
   ]
  },
  {
   "cell_type": "markdown",
   "metadata": {},
   "source": [
    "Storing data"
   ]
  },
  {
   "cell_type": "code",
   "execution_count": 2,
   "metadata": {},
   "outputs": [
    {
     "name": "stdout",
     "output_type": "stream",
     "text": [
      "1\n",
      "1\n"
     ]
    }
   ],
   "source": [
    "\n",
    "from datetime import date\n",
    "\n",
    "uncle_bob = Person(name='Bob', birthday=date(month=1, day=15, year=1960))\n",
    "uncle_bob.save()\n",
    "grandma = Person.create(name='Grandma', birthday=date(month=3, day=1, year=1935))\n",
    "print(grandma.save())\n",
    "herb = Person.create(name='Herb', birthday=date(month=5, day=5, year=1950))\n",
    "print(herb.save())\n"
   ]
  },
  {
   "cell_type": "code",
   "execution_count": 3,
   "metadata": {},
   "outputs": [
    {
     "name": "stdout",
     "output_type": "stream",
     "text": [
      "Grandma\n",
      "1935-03-01\n",
      "Grandma L.\n",
      "1935-03-01\n"
     ]
    }
   ],
   "source": [
    "\n",
    "grandma = Person.select().where(Person.name=='Grandma').get()\n",
    "print(grandma.name)\n",
    "print(grandma.birthday)\n",
    "\n",
    "grandma.name = 'Grandma L.'\n",
    "grandma.save()\n",
    "\n",
    "granny = Person.get(Person.name=='Grandma L.')\n",
    "print(granny.name)\n",
    "print(granny.birthday)\n"
   ]
  },
  {
   "cell_type": "code",
   "execution_count": 4,
   "metadata": {},
   "outputs": [
    {
     "name": "stdout",
     "output_type": "stream",
     "text": [
      "False\n"
     ]
    }
   ],
   "source": [
    "\n",
    "grandma.delete_instance(recursive=False, delete_nullable=False)\n",
    "granny.delete_instance(recursive=False, delete_nullable=False)\n",
    "print(granny.name in [person.name for person in Person.select()])\n"
   ]
  },
  {
   "cell_type": "code",
   "execution_count": 5,
   "metadata": {},
   "outputs": [
    {
     "data": {
      "text/plain": [
       "1"
      ]
     },
     "execution_count": 5,
     "metadata": {},
     "output_type": "execute_result"
    }
   ],
   "source": [
    "\n",
    "bob_kitty = Pet.create(owner=uncle_bob, name='Kitty', animal_type='cat')\n",
    "herb_fido = Pet.create(owner=herb, name='Fido', animal_type='dog')\n",
    "herb_mittens = Pet.create(owner=herb, name='Mittens', animal_type='cat')\n",
    "herb_mittens_jr = Pet.create(owner=herb, name='Mittens Jr', animal_type='cat')\n",
    "\n",
    "herb_mittens.delete_instance() # he had a great life\n"
   ]
  },
  {
   "cell_type": "code",
   "execution_count": 35,
   "metadata": {},
   "outputs": [
    {
     "data": {
      "text/plain": [
       "1"
      ]
     },
     "execution_count": 35,
     "metadata": {},
     "output_type": "execute_result"
    }
   ],
   "source": [
    "\n",
    "bob_kitty.save()\n",
    "herb_fido.owner = uncle_bob\n",
    "herb_fido.save()\n",
    "herb_mittens_jr.save()\n"
   ]
  },
  {
   "cell_type": "markdown",
   "metadata": {},
   "source": [
    "Retrieving Data"
   ]
  },
  {
   "cell_type": "markdown",
   "metadata": {},
   "source": [
    "Getting single records"
   ]
  },
  {
   "cell_type": "code",
   "execution_count": 17,
   "metadata": {},
   "outputs": [],
   "source": [
    "\n",
    "bob = Person.select().where(Person.name == 'Bob').get()\n",
    "bob_again = Person.get(Person.name == 'Bob')\n",
    "assert bob == bob_again\n"
   ]
  },
  {
   "cell_type": "markdown",
   "metadata": {},
   "source": [
    "Lists of records"
   ]
  },
  {
   "cell_type": "code",
   "execution_count": 18,
   "metadata": {},
   "outputs": [
    {
     "name": "stdout",
     "output_type": "stream",
     "text": [
      "Bob\n",
      "Bob\n",
      "Herb\n",
      "Bob\n",
      "Herb\n",
      "Bob\n",
      "Herb\n",
      "Bob\n",
      "Herb\n",
      "Bob\n",
      "Herb\n",
      "Bob\n",
      "Herb\n",
      "Bob\n",
      "Herb\n",
      "Bob\n",
      "Herb\n",
      "Bob\n",
      "Grandma\n",
      "Herb\n"
     ]
    }
   ],
   "source": [
    "\n",
    "for person in Person.select():\n",
    "    \"\"\"Printing name of each Person tuple\"\"\"\n",
    "    print(person.name)\n"
   ]
  },
  {
   "cell_type": "code",
   "execution_count": 6,
   "metadata": {},
   "outputs": [
    {
     "name": "stdout",
     "output_type": "stream",
     "text": [
      "Bob\n",
      "Kitty Bob\n",
      "Mittens Jr Herb\n"
     ]
    }
   ],
   "source": [
    "\n",
    "kitty = Pet.select().where(Pet.name == 'Kitty').get()\n",
    "kitty.owner = uncle_bob\n",
    "kitty.save()\n",
    "print(kitty.owner.name)\n",
    "\n",
    "query = Pet.select().where(Pet.animal_type == 'cat')\n",
    "for pet in query:\n",
    "    \"\"\"Printing each Pet tuple's information\"\"\"\n",
    "    print(pet.name, pet.owner.name)\n"
   ]
  },
  {
   "cell_type": "code",
   "execution_count": 49,
   "metadata": {},
   "outputs": [
    {
     "name": "stdout",
     "output_type": "stream",
     "text": [
      "Kitty Bob\n",
      "Kitty Bob\n",
      "Mittens Jr Herb\n",
      "Kitty Bob\n",
      "Mittens Jr Herb\n",
      "Kitty Bob\n",
      "Mittens Jr Herb\n",
      "-----------------------------------------------------------------------------------------------------------------------------\n",
      "Kitty\n",
      "Fido\n",
      "Kitty\n",
      "Kitty\n",
      "Kitty\n",
      "Fido\n",
      "-----------------------------------------------------------------------------------------------------------------------------\n",
      "Kitty\n",
      "Fido\n"
     ]
    }
   ],
   "source": [
    "\n",
    "query = (Pet\n",
    "         .select(Pet, Person)\n",
    "         .join(Person)\n",
    "         .where(Pet.animal_type == 'cat'))\n",
    "\n",
    "for pet in query:\n",
    "    print(pet.name, pet.owner.name)\n",
    "\n",
    "print('-' * 125)\n",
    "for pet in Pet.select().join(Person).where(Person.name == 'Bob'):\n",
    "    print(pet.name)\n",
    "\n",
    "print('-' * 125)\n",
    "for pet in Pet.select().where(Pet.owner == uncle_bob):\n",
    "    print(pet.name)\n"
   ]
  },
  {
   "cell_type": "markdown",
   "metadata": {},
   "source": [
    "Sorting"
   ]
  },
  {
   "cell_type": "code",
   "execution_count": 11,
   "metadata": {},
   "outputs": [
    {
     "name": "stdout",
     "output_type": "stream",
     "text": [
      "Kitty\n",
      "-----------------------------------------------------------------------------------------------------------------------------\n",
      "Bob 1960-01-15\n",
      "Herb 1950-05-05\n"
     ]
    }
   ],
   "source": [
    "\n",
    "for pet in Pet.select().where(Pet.owner == uncle_bob).order_by(Pet.name):\n",
    "    print(pet.name)\n",
    "\n",
    "print('-' * 125)\n",
    "for person in Person.select().order_by(Person.birthday.desc(collation=None, nulls=None)):\n",
    "    print(person.name, person.birthday)\n"
   ]
  },
  {
   "cell_type": "markdown",
   "metadata": {},
   "source": [
    "Combining filter expressions"
   ]
  },
  {
   "cell_type": "code",
   "execution_count": 18,
   "metadata": {},
   "outputs": [
    {
     "name": "stdout",
     "output_type": "stream",
     "text": [
      "Bob 1960-01-15\n",
      "Herb 1950-05-05\n"
     ]
    }
   ],
   "source": [
    "\n",
    "from datetime import date\n",
    "\n",
    "d1940 = date(year=1940, month=1, day=1)\n",
    "d1960 = date(year=1960, month=1, day=1)\n",
    "\n",
    "query = (Person\n",
    "         .select()\n",
    "         .where((Person.birthday < d1960) | (Person.birthday > d1940)))\n",
    "\n",
    "for person in query:\n",
    "    print(person.name, person.birthday)\n"
   ]
  },
  {
   "cell_type": "code",
   "execution_count": 19,
   "metadata": {},
   "outputs": [
    {
     "name": "stdout",
     "output_type": "stream",
     "text": [
      "Herb 1950-05-05\n"
     ]
    }
   ],
   "source": [
    "\n",
    "query = (Person\n",
    "         .select()\n",
    "         .where(Person.birthday.between(d1940, d1960)))\n",
    "\n",
    "for person in query:\n",
    "    print(person.name, person.birthday)\n"
   ]
  },
  {
   "cell_type": "markdown",
   "metadata": {},
   "source": [
    "Aggregates and Prefetch"
   ]
  },
  {
   "cell_type": "code",
   "execution_count": 20,
   "metadata": {},
   "outputs": [
    {
     "name": "stdout",
     "output_type": "stream",
     "text": [
      "Bob 1 pets\n",
      "Herb 2 pets\n"
     ]
    }
   ],
   "source": [
    "\n",
    "for person in Person.select():\n",
    "    print(person.name, person.pets.count(), 'pets')\n"
   ]
  },
  {
   "cell_type": "code",
   "execution_count": 22,
   "metadata": {},
   "outputs": [
    {
     "name": "stdout",
     "output_type": "stream",
     "text": [
      "Bob Kitty\n",
      "Herb Fido\n",
      "Herb Mittens Jr\n"
     ]
    }
   ],
   "source": [
    "\n",
    "from peewee import JOIN\n",
    "\n",
    "query = (Person\n",
    "         .select(Person, Pet)\n",
    "         .join(Pet, JOIN.LEFT_OUTER)\n",
    "         .order_by(Person.name, Pet.name))\n",
    "\n",
    "for person in query:\n",
    "    # We need to check if they have a pet instance attached, since not all\n",
    "    # people have pets.\n",
    "    if hasattr(person, 'pet'):\n",
    "        print(person.name, person.pet.name)\n",
    "    else:\n",
    "        print(person.name, 'no pets')\n"
   ]
  },
  {
   "cell_type": "code",
   "execution_count": 56,
   "metadata": {},
   "outputs": [
    {
     "name": "stdout",
     "output_type": "stream",
     "text": [
      "Bob\n",
      "Bob\n",
      "Bob\n",
      "Bob\n",
      "Bob\n",
      "Bob\n",
      "Bob\n",
      "Bob\n",
      "  * Kitty\n",
      "Bob\n",
      "  * Fido\n",
      "  * Kitty\n",
      "Bob\n",
      "  * Kitty\n",
      "Bob\n",
      "  * Kitty\n",
      "  * Fido\n",
      "Grandma\n",
      "Grandma\n",
      "Herb\n",
      "Herb\n",
      "Herb\n",
      "Herb\n",
      "Herb\n",
      "Herb\n",
      "Herb\n",
      "  * Mittens Jr\n",
      "Herb\n",
      "  * Fido\n",
      "  * Mittens Jr\n",
      "Herb\n",
      "  * Mittens Jr\n",
      "Herb\n"
     ]
    }
   ],
   "source": [
    "\n",
    "query = Person.select().order_by(Person.name).prefetch(Pet)\n",
    "for person in query:\n",
    "    print(person.name)\n",
    "    for pet in person.pets:\n",
    "        print('  *', pet.name)\n"
   ]
  },
  {
   "cell_type": "markdown",
   "metadata": {},
   "source": [
    "SQL Functions"
   ]
  },
  {
   "cell_type": "code",
   "execution_count": 24,
   "metadata": {},
   "outputs": [
    {
     "ename": "AttributeError",
     "evalue": "type object 'Function' has no attribute 'Lower'",
     "output_type": "error",
     "traceback": [
      "\u001b[0;31m---------------------------------------------------------------------------\u001b[0m",
      "\u001b[0;31mAttributeError\u001b[0m                            Traceback (most recent call last)",
      "\u001b[0;32m<ipython-input-24-9bfc7edca5c5>\u001b[0m in \u001b[0;36m<module>\u001b[0;34m\u001b[0m\n\u001b[1;32m      2\u001b[0m \u001b[0;32mfrom\u001b[0m \u001b[0mpeewee\u001b[0m \u001b[0;32mimport\u001b[0m \u001b[0mFunction\u001b[0m \u001b[0;32mas\u001b[0m \u001b[0mfn\u001b[0m\u001b[0;34m\u001b[0m\u001b[0;34m\u001b[0m\u001b[0m\n\u001b[1;32m      3\u001b[0m \u001b[0;34m\u001b[0m\u001b[0m\n\u001b[0;32m----> 4\u001b[0;31m \u001b[0mexpression\u001b[0m \u001b[0;34m=\u001b[0m \u001b[0mfn\u001b[0m\u001b[0;34m.\u001b[0m\u001b[0mLower\u001b[0m\u001b[0;34m(\u001b[0m\u001b[0mfn\u001b[0m\u001b[0;34m.\u001b[0m\u001b[0mSubstr\u001b[0m\u001b[0;34m(\u001b[0m\u001b[0mPerson\u001b[0m\u001b[0;34m.\u001b[0m\u001b[0mname\u001b[0m\u001b[0;34m,\u001b[0m \u001b[0;36m1\u001b[0m\u001b[0;34m,\u001b[0m \u001b[0;36m1\u001b[0m\u001b[0;34m)\u001b[0m\u001b[0;34m)\u001b[0m \u001b[0;34m==\u001b[0m \u001b[0;34m'g'\u001b[0m\u001b[0;34m\u001b[0m\u001b[0;34m\u001b[0m\u001b[0m\n\u001b[0m\u001b[1;32m      5\u001b[0m \u001b[0;32mfor\u001b[0m \u001b[0mperson\u001b[0m \u001b[0;32min\u001b[0m \u001b[0mPerson\u001b[0m\u001b[0;34m.\u001b[0m\u001b[0mselect\u001b[0m\u001b[0;34m(\u001b[0m\u001b[0;34m)\u001b[0m\u001b[0;34m.\u001b[0m\u001b[0mwhere\u001b[0m\u001b[0;34m(\u001b[0m\u001b[0mexpression\u001b[0m\u001b[0;34m)\u001b[0m\u001b[0;34m:\u001b[0m\u001b[0;34m\u001b[0m\u001b[0;34m\u001b[0m\u001b[0m\n\u001b[1;32m      6\u001b[0m     \u001b[0mprint\u001b[0m\u001b[0;34m(\u001b[0m\u001b[0mperson\u001b[0m\u001b[0;34m.\u001b[0m\u001b[0mname\u001b[0m\u001b[0;34m)\u001b[0m\u001b[0;34m\u001b[0m\u001b[0;34m\u001b[0m\u001b[0m\n",
      "\u001b[0;31mAttributeError\u001b[0m: type object 'Function' has no attribute 'Lower'"
     ]
    }
   ],
   "source": [
    "\n",
    "from peewee import Function as fn\n",
    "\n",
    "expression = fn.Lower(fn.Substr(Person.name, 1, 1)) == 'g'\n",
    "for person in Person.select().where(expression):\n",
    "    print(person.name)\n"
   ]
  },
  {
   "cell_type": "markdown",
   "metadata": {},
   "source": [
    "Database"
   ]
  },
  {
   "cell_type": "code",
   "execution_count": 58,
   "metadata": {},
   "outputs": [
    {
     "data": {
      "text/plain": [
       "True"
      ]
     },
     "execution_count": 58,
     "metadata": {},
     "output_type": "execute_result"
    }
   ],
   "source": [
    "db.close()"
   ]
  },
  {
   "cell_type": "code",
   "execution_count": null,
   "metadata": {},
   "outputs": [],
   "source": []
  }
 ],
 "metadata": {
  "kernelspec": {
   "display_name": "Python 3",
   "language": "python",
   "name": "python3"
  },
  "language_info": {
   "codemirror_mode": {
    "name": "ipython",
    "version": 3
   },
   "file_extension": ".py",
   "mimetype": "text/x-python",
   "name": "python",
   "nbconvert_exporter": "python",
   "pygments_lexer": "ipython3",
   "version": "3.7.6"
  },
  "varInspector": {
   "cols": {
    "lenName": 16,
    "lenType": 16,
    "lenVar": 40
   },
   "kernels_config": {
    "python": {
     "delete_cmd_postfix": "",
     "delete_cmd_prefix": "del ",
     "library": "var_list.py",
     "varRefreshCmd": "print(var_dic_list())"
    },
    "r": {
     "delete_cmd_postfix": ") ",
     "delete_cmd_prefix": "rm(",
     "library": "var_list.r",
     "varRefreshCmd": "cat(var_dic_list()) "
    }
   },
   "types_to_exclude": [
    "module",
    "function",
    "builtin_function_or_method",
    "instance",
    "_Feature"
   ],
   "window_display": false
  }
 },
 "nbformat": 4,
 "nbformat_minor": 4
}
