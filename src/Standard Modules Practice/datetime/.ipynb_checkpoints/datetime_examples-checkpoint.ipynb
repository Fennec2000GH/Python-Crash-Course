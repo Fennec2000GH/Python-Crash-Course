{
 "cells": [
  {
   "cell_type": "markdown",
   "metadata": {},
   "source": [
    "# datetime"
   ]
  },
  {
   "cell_type": "markdown",
   "metadata": {},
   "source": [
    "## Aware and Naive Objects"
   ]
  },
  {
   "cell_type": "markdown",
   "metadata": {},
   "source": [
    "Date and time objects may be categorized as “aware” or “naive” depending on whether or not they include timezone information.<br><br>\n",
    "\n",
    "With sufficient knowledge of applicable algorithmic and political time adjustments, such as time zone and daylight saving time information, an aware object can locate itself relative to other aware objects. An aware object represents a specific moment in time that is not open to interpretation.<br><br>\n",
    "\n",
    "A naive object does not contain enough information to unambiguously locate itself relative to other date/time objects. Whether a naive object represents Coordinated Universal Time (UTC), local time, or time in some other timezone is purely up to the program, just like it is up to the program whether a particular number represents metres, miles, or mass. Naive objects are easy to understand and to work with, at the cost of ignoring some aspects of reality.<br><br>\n",
    "\n",
    "For applications requiring aware objects, datetime and time objects have an optional time zone information attribute, tzinfo, that can be set to an instance of a subclass of the abstract tzinfo class. These tzinfo objects capture information about the offset from UTC time, the time zone name, and whether daylight saving time is in effect.<br><br>\n",
    "\n",
    "Only one concrete tzinfo class, the timezone class, is supplied by the datetime module. The timezone class can represent simple timezones with fixed offsets from UTC, such as UTC itself or North American EST and EDT timezones. Supporting timezones at deeper levels of detail is up to the application. The rules for time adjustment across the world are more political than rational, change frequently, and there is no standard suitable for every application aside from UTC."
   ]
  },
  {
   "cell_type": "markdown",
   "metadata": {},
   "source": [
    "## Constants"
   ]
  },
  {
   "cell_type": "markdown",
   "metadata": {},
   "source": [
    "datetime.MINYEAR<br>\n",
    "The smallest year number allowed in a date or datetime object. MINYEAR is 1."
   ]
  },
  {
   "cell_type": "markdown",
   "metadata": {},
   "source": [
    "datetime.MAXYEAR<br>\n",
    "The largest year number allowed in a date or datetime object. MAXYEAR is 9999."
   ]
  },
  {
   "cell_type": "code",
   "execution_count": 10,
   "metadata": {},
   "outputs": [
    {
     "name": "stdout",
     "output_type": "stream",
     "text": [
      "1\n",
      "9999\n"
     ]
    }
   ],
   "source": [
    "\n",
    "import datetime\n",
    "\n",
    "print(datetime.MINYEAR)\n",
    "assert datetime.MINYEAR == 1\n",
    "print(datetime.MAXYEAR)\n",
    "assert datetime.MAXYEAR == 9999\n"
   ]
  },
  {
   "cell_type": "markdown",
   "metadata": {},
   "source": [
    "class datetime.date<br><br>\n",
    "An idealized naive date, assuming the current Gregorian calendar always was, and always will be, in effect. Attributes: year, month, and day."
   ]
  },
  {
   "cell_type": "code",
   "execution_count": 1,
   "metadata": {},
   "outputs": [
    {
     "name": "stdout",
     "output_type": "stream",
     "text": [
      "2020\n",
      "1\n",
      "1\n"
     ]
    }
   ],
   "source": [
    "\n",
    "import datetime\n",
    "\n",
    "new_year_2020 = datetime.date(year=2020, month=1, day=1)\n",
    "print(getattr(new_year_2020, 'year'))\n",
    "print(getattr(new_year_2020, 'month'))\n",
    "print(getattr(new_year_2020, 'day'))\n"
   ]
  },
  {
   "cell_type": "code",
   "execution_count": 21,
   "metadata": {},
   "outputs": [
    {
     "name": "stdout",
     "output_type": "stream",
     "text": [
      "2020-06-09\n",
      "Wait until next year!\n",
      "2021-03-09\n",
      "273 days, 0:00:00\n",
      "273\n"
     ]
    }
   ],
   "source": [
    "\n",
    "import time\n",
    "import datetime\n",
    "\n",
    "today = datetime.date.today()\n",
    "print(today)\n",
    "\n",
    "assert today == datetime.date.fromtimestamp(time.time())\n",
    "\n",
    "my_birthday = datetime.date(year=today.year, month=3, day=9)\n",
    "if my_birthday < today:\n",
    "    print('Wait until next year!')\n",
    "    my_birthday = my_birthday.replace(year=today.year + 1)\n",
    "print(my_birthday)\n",
    "time_to_birthday = abs(my_birthday - today)\n",
    "print(time_to_birthday)\n",
    "print(time_to_birthday.days)\n"
   ]
  },
  {
   "cell_type": "code",
   "execution_count": 39,
   "metadata": {},
   "outputs": [
    {
     "name": "stdout",
     "output_type": "stream",
     "text": [
      "2002-03-11\n",
      "2002-03-11\n",
      "11/03/02\n",
      "Mon Mar 11 00:00:00 2002\n",
      "The day is 11, the month is March.\n",
      "2002\n",
      "3\n",
      "11\n",
      "0\n",
      "0\n",
      "0\n",
      "0\n",
      "70\n",
      "-1\n",
      "-----------------------------------------------------------------------------------------------------------------------------\n",
      "2002\n",
      "11\n",
      "1\n",
      "-----------------------------------------------------------------------------------------------------------------------------\n",
      "2002-03-11\n"
     ]
    }
   ],
   "source": [
    "\n",
    "import datetime\n",
    "\n",
    "d = datetime.date.fromordinal(730920) # 730920th day after 1. 1. 0001\n",
    "print(d)\n",
    "print(d.isoformat())\n",
    "print(d.strftime('%d/%m/%y'))\n",
    "print(d.ctime())\n",
    "print('The {1} is {0:%d}, the {2} is {0:%B}.'.format(d, \"day\", \"month\"))\n",
    "\n",
    "t = d.timetuple()\n",
    "for i in t:\n",
    "    print(i)\n",
    "\n",
    "print('-' * 125)\n",
    "ic = d.isocalendar()\n",
    "for i in ic:\n",
    "    print(i)\n",
    "\n",
    "print('-' * 125)\n",
    "d.replace(year=2005)\n",
    "print(d)\n"
   ]
  },
  {
   "cell_type": "markdown",
   "metadata": {},
   "source": [
    "class datetime.time<br><br>\n",
    "An idealized time, independent of any particular day, assuming that every day has exactly 24*60*60 seconds. (There is no notion of “leap seconds” here.) Attributes: hour, minute, second, microsecond, and tzinfo."
   ]
  },
  {
   "cell_type": "code",
   "execution_count": 40,
   "metadata": {},
   "outputs": [
    {
     "name": "stdout",
     "output_type": "stream",
     "text": [
      "12:30:30.000030\n"
     ]
    }
   ],
   "source": [
    "\n",
    "import datetime\n",
    "\n",
    "time_obj = datetime.time(hour=12, minute=30, second=30, microsecond=30)\n",
    "print(time_obj)\n"
   ]
  },
  {
   "cell_type": "code",
   "execution_count": 51,
   "metadata": {},
   "outputs": [
    {
     "name": "stdout",
     "output_type": "stream",
     "text": [
      "12:10:30+01:00\n",
      "12:10:30+01:00\n",
      "0:00:00\n",
      "+1:00\n",
      "12:10:30 +0100\n",
      "The time is 12:10.\n"
     ]
    }
   ],
   "source": [
    "\n",
    "import datetime\n",
    "\n",
    "class TZ1(datetime.tzinfo):\n",
    "    def utcoffset(self, dt):\n",
    "        return datetime.timedelta(hours=1)\n",
    "    def dst(self, dt):\n",
    "        return datetime.timedelta(0)\n",
    "    def tzname(self, dt):\n",
    "        return '+1:00'\n",
    "    def __repr__(self):\n",
    "        return f'{self.__class__.__name__}()'\n",
    "\n",
    "t = datetime.time(hour=12, minute=10, second=30, tzinfo=TZ1())\n",
    "print(t)\n",
    "print(t.isoformat())\n",
    "print(t.dst())\n",
    "print(t.tzname())\n",
    "print(t.strftime('%H:%M:%S %z'))\n",
    "print('The {} is {:%H:%M}.'.format(\"time\", t))\n"
   ]
  },
  {
   "cell_type": "markdown",
   "metadata": {},
   "source": [
    "class datetime.datetime<br><br>\n",
    "A combination of a date and a time. Attributes: year, month, day, hour, minute, second, microsecond, and tzinfo."
   ]
  },
  {
   "cell_type": "code",
   "execution_count": 56,
   "metadata": {},
   "outputs": [
    {
     "name": "stdout",
     "output_type": "stream",
     "text": [
      "2012-12-12 06:30:00\n"
     ]
    }
   ],
   "source": [
    "\n",
    "import datetime\n",
    "\n",
    "dt = datetime.datetime(year=2012, month=12, day=12, hour=6, minute=30)\n",
    "print(dt)\n"
   ]
  },
  {
   "cell_type": "code",
   "execution_count": 64,
   "metadata": {},
   "outputs": [
    {
     "name": "stdout",
     "output_type": "stream",
     "text": [
      "2005-07-05 12:00:30\n",
      "2020-06-09 23:54:41.455864\n",
      "2020-06-10 03:54:41.455988+00:00\n",
      "2006-11-21 16:30:00\n",
      "2006\n",
      "11\n",
      "21\n",
      "16\n",
      "30\n",
      "0\n",
      "1\n",
      "325\n",
      "-1\n",
      "2006\n",
      "47\n",
      "2\n",
      "Tuesday, 21. November 2006 04:30PM\n",
      "The day is 21, the month is November, the time is 04:30PM.\n"
     ]
    }
   ],
   "source": [
    "\n",
    "import datetime\n",
    "\n",
    "# Using datetime.combine()\n",
    "d = datetime.date(year=2005, month=7, day=5)\n",
    "t = datetime.time(hour=12, second=30)\n",
    "dt = datetime.datetime.combine(d, t)\n",
    "print(dt)\n",
    "\n",
    "# Using datetime.now()\n",
    "print(datetime.datetime.now())\n",
    "print(datetime.datetime.now(tz=datetime.timezone.utc))\n",
    "\n",
    "# Using datetime.strptime()\n",
    "dt = datetime.datetime.strptime(\"21/11/06 16:30\", \"%d/%m/%y %H:%M\")\n",
    "print(dt)\n",
    "\n",
    "tt = dt.timetuple()\n",
    "for it in tt:\n",
    "    print(it)\n",
    "\n",
    "ic = dt.isocalendar()\n",
    "for it in ic:\n",
    "    print(it)\n",
    "\n",
    "# Formatting a datetime\n",
    "print(dt.strftime(\"%A, %d. %B %Y %I:%M%p\"))\n",
    "\n",
    "print('The {1} is {0:%d}, the {2} is {0:%B}, the {3} is {0:%I:%M%p}.'.format(dt, \"day\", \"month\", \"time\"))\n"
   ]
  },
  {
   "cell_type": "markdown",
   "metadata": {},
   "source": [
    "class datetime.timedelta<br><br>\n",
    "A duration expressing the difference between two date, time, or datetime instances to microsecond resolution."
   ]
  },
  {
   "cell_type": "markdown",
   "metadata": {},
   "source": [
    "class datetime.timedelta(days=0, seconds=0, microseconds=0, milliseconds=0, minutes=0, hours=0, weeks=0)<br><br>\n",
    "All arguments are optional and default to 0. Arguments may be integers or floats, and may be positive or negative."
   ]
  },
  {
   "cell_type": "code",
   "execution_count": 123,
   "metadata": {},
   "outputs": [
    {
     "name": "stdout",
     "output_type": "stream",
     "text": [
      "365 days, 6:00:00\n",
      "<class 'datetime.timedelta'>\n",
      "31 days, 0:00:00\n"
     ]
    }
   ],
   "source": [
    "\n",
    "import datetime\n",
    "\n",
    "year_length = datetime.timedelta(days=365, hours=6)\n",
    "print(year_length)\n",
    "\n",
    "d1 = datetime.date.today()\n",
    "d2 = d1.replace(month=d1.month - 1)\n",
    "td = abs(d1 - d2)\n",
    "print(type(td))\n",
    "print(td)\n"
   ]
  },
  {
   "cell_type": "code",
   "execution_count": 128,
   "metadata": {},
   "outputs": [
    {
     "name": "stdout",
     "output_type": "stream",
     "text": [
      "365 days, 0:00:00\n",
      "365 days, 0:00:00\n",
      "31536000.0\n"
     ]
    }
   ],
   "source": [
    "\n",
    "import datetime\n",
    "\n",
    "year = datetime.timedelta(days=365)\n",
    "another_year = datetime.timedelta(weeks=40, days=84, hours=23, minutes=50, seconds=600)\n",
    "print(year)\n",
    "print(another_year)\n",
    "assert year == another_year\n",
    "print(year.total_seconds())\n"
   ]
  },
  {
   "cell_type": "markdown",
   "metadata": {},
   "source": [
    "timedelta.total_seconds()<br><br>\n",
    "Return the total number of seconds contained in the duration. Equivalent to td / timedelta(seconds=1). For interval units other than seconds, use the division form directly (e.g. td / timedelta(microseconds=1))."
   ]
  },
  {
   "cell_type": "code",
   "execution_count": 79,
   "metadata": {},
   "outputs": [
    {
     "name": "stdout",
     "output_type": "stream",
     "text": [
      "[datetime.timedelta(days=7), datetime.timedelta(days=7), datetime.timedelta(days=7), datetime.timedelta(days=7), datetime.timedelta(days=7), datetime.timedelta(days=7)]\n",
      "604800.0\n",
      "604800.0\n",
      "604800.0\n",
      "604800.0\n",
      "604800.0\n",
      "604800.0\n"
     ]
    }
   ],
   "source": [
    "\n",
    "import datetime\n",
    "\n",
    "w = datetime.timedelta(weeks=1)\n",
    "d = datetime.timedelta(days=7)\n",
    "h = datetime.timedelta(hours=168)\n",
    "m = datetime.timedelta(minutes=10080)\n",
    "s = datetime.timedelta(seconds=604800)\n",
    "mi = datetime.timedelta(microseconds=604800000000)\n",
    "time_list = [w, d, h, m, s, mi]\n",
    "print(time_list)\n",
    "for td in time_list:\n",
    "    print(td.total_seconds())\n",
    "    assert td.total_seconds() == 604800\n"
   ]
  },
  {
   "cell_type": "markdown",
   "metadata": {},
   "source": [
    "timedelta.min<br><br>\n",
    "The most negative timedelta object, timedelta(-999999999)"
   ]
  },
  {
   "cell_type": "markdown",
   "metadata": {},
   "source": [
    "timedelta.max<br><br>\n",
    "The most positive timedelta object, timedelta(days=999999999, hours=23, minutes=59, seconds=59, microseconds=999999)."
   ]
  },
  {
   "cell_type": "markdown",
   "metadata": {},
   "source": [
    "timedelta.resolution<br><br>\n",
    "The smallest possible difference between non-equal timedelta objects, timedelta(microseconds=1)."
   ]
  },
  {
   "cell_type": "code",
   "execution_count": 97,
   "metadata": {},
   "outputs": [
    {
     "name": "stdout",
     "output_type": "stream",
     "text": [
      "-999999999 days, 0:00:00\n",
      "999999999 days, 23:59:59.999999\n",
      "0:00:00.000001\n"
     ]
    }
   ],
   "source": [
    "\n",
    "import datetime\n",
    "\n",
    "print(datetime.timedelta.min)\n",
    "print(datetime.timedelta.max)\n",
    "print(datetime.timedelta.resolution)\n"
   ]
  },
  {
   "cell_type": "markdown",
   "metadata": {},
   "source": [
    "## Supported Operations"
   ]
  },
  {
   "cell_type": "code",
   "execution_count": 121,
   "metadata": {},
   "outputs": [
    {
     "name": "stdout",
     "output_type": "stream",
     "text": [
      "29 days, 0:00:00\n",
      "26 days, 0:00:00\n",
      "202 days, 0:00:00\n",
      "-----------------------------------------------------------------------------------------------------------------------------\n",
      "55 days, 0:00:00\n",
      "3 days, 0:00:00\n",
      "116 days, 0:00:00\n",
      "7 days, 6:00:00\n",
      "0.12871287128712872\n",
      "1\n",
      "3 days, 0:00:00\n",
      "(7, datetime.timedelta(days=20))\n",
      "29 days, 0:00:00\n",
      "-29 days, 0:00:00\n",
      "176 days, 0:00:00\n",
      "29 days, 0:00:00\n",
      "datetime.timedelta(days=29)\n"
     ]
    }
   ],
   "source": [
    "\n",
    "import datetime\n",
    "\n",
    "Christmas = datetime.date(year=2020, month=12, day=25)\n",
    "Thanksgiving = datetime.date(year=2020, month=11, day=26)\n",
    "Halloween = datetime.date(year=2020, month=10, day=31)\n",
    "Easter = datetime.date(year=2020, month=4, day=12)\n",
    "t1 = abs(Christmas - Thanksgiving)\n",
    "t2 = abs(Thanksgiving - Halloween)\n",
    "t3 = abs(Halloween - Easter)\n",
    "print(t1)\n",
    "print(t2)\n",
    "print(t3)\n",
    "\n",
    "print('-' * 125)\n",
    "print(t1 + t2)\n",
    "print(t1 - t2)\n",
    "print(t1 * 4)\n",
    "print(t1 * 0.25)\n",
    "print(t2 / t3)\n",
    "print(t1 // t2)\n",
    "print(t1 % t2)\n",
    "print(divmod(t3, t2))\n",
    "print(+t1)\n",
    "print(-t1)\n",
    "print(abs(t2-t3))\n",
    "print(str(t1))\n",
    "print(repr(t1))\n"
   ]
  },
  {
   "cell_type": "markdown",
   "metadata": {},
   "source": [
    "class datetime.tzinfo<br><br>\n",
    "An abstract base class for time zone information objects. These are used by the datetime and time classes to provide a customizable notion of time adjustment (for example, to account for time zone and/or daylight saving time)."
   ]
  },
  {
   "cell_type": "markdown",
   "metadata": {},
   "source": [
    "tzinfo.utcoffset(dt)<br><br>\n",
    "Return offset of local time from UTC, as a timedelta object that is positive east of UTC. If local time is west of UTC, this should be negative."
   ]
  },
  {
   "cell_type": "markdown",
   "metadata": {},
   "source": [
    "tzinfo.dst(dt)<br><br>\n",
    "Return the daylight saving time (DST) adjustment, as a timedelta object or None if DST information isn’t known."
   ]
  },
  {
   "cell_type": "markdown",
   "metadata": {},
   "source": [
    "tzinfo.tzname(dt)<br><br>\n",
    "Return the time zone name corresponding to the datetime object dt, as a string. Nothing about string names is defined by the datetime module, and there’s no requirement that it mean anything in particular. For example, “GMT”, “UTC”, “-500”, “-5:00”, “EDT”, “US/Eastern”, “America/New York” are all valid replies. Return None if a string name isn’t known. Note that this is a method rather than a fixed string primarily because some tzinfo subclasses will wish to return different names depending on the specific value of dt passed, especially if the tzinfo class is accounting for daylight time."
   ]
  },
  {
   "cell_type": "markdown",
   "metadata": {},
   "source": [
    "tzinfo.fromutc(dt)<br><br>\n",
    "This is called from the default datetime.astimezone() implementation. When called from that, dt.tzinfo is self, and dt’s date and time data are to be viewed as expressing a UTC time. The purpose of fromutc() is to adjust the date and time data, returning an equivalent datetime in self’s local time."
   ]
  },
  {
   "cell_type": "code",
   "execution_count": 156,
   "metadata": {},
   "outputs": [
    {
     "name": "stdout",
     "output_type": "stream",
     "text": [
      "<class 'datetime.datetime'>\n",
      "2020-06-10 01:02:23.585095-04:00\n",
      "-1 day, 20:00:00\n",
      "None\n",
      "EDT\n"
     ]
    }
   ],
   "source": [
    "\n",
    "import datetime\n",
    "\n",
    "n = datetime.datetime.now(datetime.timezone.utc).astimezone()\n",
    "print(type(n))\n",
    "print(n)\n",
    "print(n.utcoffset())\n",
    "print(n.dst())\n",
    "print(n.tzname())\n",
    "# print(n.fromutc())\n"
   ]
  },
  {
   "cell_type": "markdown",
   "metadata": {},
   "source": [
    "class datetime.timezone<br><br>\n",
    "A class that implements the tzinfo abstract base class as a fixed offset from the UTC."
   ]
  },
  {
   "attachments": {
    "strftime_and_strptime.png": {
     "image/png": "[encoded data removed]"
    }
   },
   "cell_type": "markdown",
   "metadata": {},
   "source": [
    "![strftime_and_strptime.png](attachment:strftime_and_strptime.png)!"
   ]
  },
  {
   "cell_type": "code",
   "execution_count": null,
   "metadata": {},
   "outputs": [],
   "source": []
  }
 ],
 "metadata": {
  "kernelspec": {
   "display_name": "Python 3",
   "language": "python",
   "name": "python3"
  },
  "language_info": {
   "codemirror_mode": {
    "name": "ipython",
    "version": 3
   },
   "file_extension": ".py",
   "mimetype": "text/x-python",
   "name": "python",
   "nbconvert_exporter": "python",
   "pygments_lexer": "ipython3",
   "version": "3.7.6"
  },
  "varInspector": {
   "cols": {
    "lenName": 16,
    "lenType": 16,
    "lenVar": 40
   },
   "kernels_config": {
    "python": {
     "delete_cmd_postfix": "",
     "delete_cmd_prefix": "del ",
     "library": "var_list.py",
     "varRefreshCmd": "print(var_dic_list())"
    },
    "r": {
     "delete_cmd_postfix": ") ",
     "delete_cmd_prefix": "rm(",
     "library": "var_list.r",
     "varRefreshCmd": "cat(var_dic_list()) "
    }
   },
   "types_to_exclude": [
    "module",
    "function",
    "builtin_function_or_method",
    "instance",
    "_Feature"
   ],
   "window_display": false
  }
 },
 "nbformat": 4,
 "nbformat_minor": 4
}
