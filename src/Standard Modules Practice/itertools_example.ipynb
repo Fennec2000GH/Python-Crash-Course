{
 "cells": [
  {
   "cell_type": "markdown",
   "metadata": {},
   "source": [
    "# itertools"
   ]
  },
  {
   "cell_type": "markdown",
   "metadata": {},
   "source": [
    "The set of <i>iterator tools</i>, or shortened to <i>itertools</i> provides the essential building-block functions for <i>iterators</i>. The entire set of <i>itertools</i> collectively bolster a domain of \"</i>iterator algebra</i>.\" This is thanks to the very numerous fast and efficient functions provided."
   ]
  },
  {
   "cell_type": "markdown",
   "metadata": {},
   "source": [
    "## Infinite Iterators"
   ]
  },
  {
   "cell_type": "markdown",
   "metadata": {},
   "source": [
    "itertools.count(start=0, step=1) <br><br>\n",
    "Make an iterator that returns evenly spaced values starting with number start. Often used as an argument to map() to generate consecutive data points. Also, used with zip() to add sequence numbers."
   ]
  },
  {
   "cell_type": "code",
   "execution_count": 12,
   "metadata": {},
   "outputs": [
    {
     "name": "stdout",
     "output_type": "stream",
     "text": [
      "0\n",
      "1\n",
      "2\n",
      "3\n",
      "4\n",
      "5\n",
      "6\n",
      "7\n",
      "8\n",
      "9\n",
      "10\n",
      "11\n",
      "12\n",
      "13\n",
      "14\n",
      "15\n",
      "16\n",
      "17\n",
      "18\n",
      "19\n"
     ]
    }
   ],
   "source": [
    "\n",
    "import itertools\n",
    "\n",
    "it = itertools.count(start=0, step=1)\n",
    "val = next(it)\n",
    "while val < 20: # print first 20\n",
    "    print(val)\n",
    "    val = next(it)\n"
   ]
  },
  {
   "cell_type": "markdown",
   "metadata": {},
   "source": [
    "itertools.cycle(iterable) <br><br>\n",
    "Make an iterator returning elements from the iterable and saving a copy of each. When the iterable is exhausted, return elements from the saved copy. Repeats indefinitely."
   ]
  },
  {
   "cell_type": "code",
   "execution_count": 14,
   "metadata": {},
   "outputs": [
    {
     "name": "stdout",
     "output_type": "stream",
     "text": [
      "0\n",
      "1\n",
      "2\n",
      "3\n",
      "4\n",
      "0\n",
      "1\n",
      "2\n",
      "3\n",
      "4\n",
      "0\n",
      "1\n",
      "2\n",
      "3\n",
      "4\n",
      "0\n",
      "1\n",
      "2\n",
      "3\n",
      "4\n"
     ]
    }
   ],
   "source": [
    "\n",
    "import itertools\n",
    "it = itertools.cycle(range(5))\n",
    "\n",
    "for index in range(20): # print first 20\n",
    "    val = next(it)\n",
    "    print(val)\n"
   ]
  },
  {
   "cell_type": "markdown",
   "metadata": {},
   "source": [
    "itertools.repeat(object[, times]) <br><br>\n",
    "Make an iterator that returns object over and over again. Runs indefinitely unless the times argument is specified. Used as argument to map() for invariant parameters to the called function. Also used with zip() to create an invariant part of a tuple record."
   ]
  },
  {
   "cell_type": "code",
   "execution_count": 24,
   "metadata": {},
   "outputs": [
    {
     "name": "stdout",
     "output_type": "stream",
     "text": [
      "('A', 1)\n",
      "('A', 1)\n",
      "('A', 1)\n",
      "('A', 1)\n",
      "('A', 1)\n",
      "('A', 1)\n",
      "('A', 1)\n",
      "('A', 1)\n",
      "('A', 1)\n",
      "('A', 1)\n",
      "[0, 1, 4, 9, 16, 25, 36, 49, 64, 81]\n"
     ]
    }
   ],
   "source": [
    "\n",
    "import itertools\n",
    "\n",
    "it = itertools.repeat(object=('A', 1), times=10)\n",
    "for val in it:\n",
    "    print(val)\n",
    "\n",
    "m = list(map(pow, range(10), itertools.repeat(object=2)))\n",
    "print(m)\n"
   ]
  },
  {
   "cell_type": "markdown",
   "metadata": {},
   "source": [
    "## Iterators terminating on the shortest input sequence"
   ]
  },
  {
   "cell_type": "markdown",
   "metadata": {},
   "source": [
    "itertools.accumulate(iterable[, func, *, initial=None]) <br><br>\n",
    "Make an iterator that returns accumulated sums, or accumulated results of other binary functions (specified via the optional func argument).\n",
    "\n",
    "If func is supplied, it should be a function of two arguments. Elements of the input iterable may be any type that can be accepted as arguments to func. (For example, with the default operation of addition, elements may be any addable type including Decimal or Fraction.)\n",
    "\n",
    "Usually, the number of elements output matches the input iterable. However, if the keyword argument initial is provided, the accumulation leads off with the initial value so that the output has one more element than the input iterable."
   ]
  },
  {
   "cell_type": "code",
   "execution_count": 47,
   "metadata": {},
   "outputs": [
    {
     "name": "stdout",
     "output_type": "stream",
     "text": [
      "[3, 4, 6, 2, 1, 9, 0, 7, 5, 8]\n",
      "[3, 7, 13, 15, 16, 25, 25, 32, 37, 45]\n",
      "[3, 7, 13, 15, 16, 25, 25, 32, 37, 45]\n",
      "[3, -1, -7, -9, -10, -19, -19, -26, -31, -39]\n",
      "[3, 12, 72, 144, 144, 1296, 0, 0, 0, 0]\n",
      "[3, 3, 3, 2, 1, 1, 0, 0, 0, 0]\n",
      "[3, 4, 6, 6, 6, 9, 9, 9, 9, 9]\n",
      "[3, 1, 5, 3, 2, 7, 7, 0, 5, 3]\n"
     ]
    }
   ],
   "source": [
    "\n",
    "import itertools\n",
    "import operator\n",
    "\n",
    "data = [3, 4, 6, 2, 1, 9, 0, 7, 5, 8]\n",
    "print(data)\n",
    "a = list(itertools.accumulate(data)) # sum of all elements\n",
    "print(a)\n",
    "EXPECTED = [ sum(data[:index + 1]) for index in range(len(data)) ]\n",
    "print(EXPECTED)\n",
    "assert a == EXPECTED\n",
    "a = list(itertools.accumulate(data, operator.sub)) # iterative subtraction of all elements\n",
    "print(a)\n",
    "a = list(itertools.accumulate(data, operator.mul)) # product of all elements\n",
    "print(a)\n",
    "a = list(itertools.accumulate(data, min)) # min of all elements up to current index\n",
    "print(a)\n",
    "a = list(itertools.accumulate(data, max)) # max of all elements up to current index\n",
    "print(a)\n",
    "a = list(itertools.accumulate(data, lambda x, y: abs(x - y))) # abs diff between adjacent elements\n",
    "print(a)\n"
   ]
  },
  {
   "cell_type": "markdown",
   "metadata": {},
   "source": [
    "itertools.chain(*iterables) <br><br>\n",
    "Make an iterator that returns elements from the first iterable until it is exhausted, then proceeds to the next iterable, until all of the iterables are exhausted. Used for treating consecutive sequences as a single sequence."
   ]
  },
  {
   "cell_type": "code",
   "execution_count": null,
   "metadata": {},
   "outputs": [],
   "source": []
  },
  {
   "cell_type": "code",
   "execution_count": null,
   "metadata": {},
   "outputs": [],
   "source": []
  },
  {
   "cell_type": "code",
   "execution_count": null,
   "metadata": {},
   "outputs": [],
   "source": []
  },
  {
   "cell_type": "code",
   "execution_count": null,
   "metadata": {},
   "outputs": [],
   "source": []
  },
  {
   "cell_type": "code",
   "execution_count": null,
   "metadata": {},
   "outputs": [],
   "source": []
  },
  {
   "cell_type": "code",
   "execution_count": null,
   "metadata": {},
   "outputs": [],
   "source": []
  }
 ],
 "metadata": {
  "kernelspec": {
   "display_name": "Python 3",
   "language": "python",
   "name": "python3"
  },
  "language_info": {
   "codemirror_mode": {
    "name": "ipython",
    "version": 3
   },
   "file_extension": ".py",
   "mimetype": "text/x-python",
   "name": "python",
   "nbconvert_exporter": "python",
   "pygments_lexer": "ipython3",
   "version": "3.7.6"
  },
  "varInspector": {
   "cols": {
    "lenName": 16,
    "lenType": 16,
    "lenVar": 40
   },
   "kernels_config": {
    "python": {
     "delete_cmd_postfix": "",
     "delete_cmd_prefix": "del ",
     "library": "var_list.py",
     "varRefreshCmd": "print(var_dic_list())"
    },
    "r": {
     "delete_cmd_postfix": ") ",
     "delete_cmd_prefix": "rm(",
     "library": "var_list.r",
     "varRefreshCmd": "cat(var_dic_list()) "
    }
   },
   "types_to_exclude": [
    "module",
    "function",
    "builtin_function_or_method",
    "instance",
    "_Feature"
   ],
   "window_display": false
  }
 },
 "nbformat": 4,
 "nbformat_minor": 4
}
