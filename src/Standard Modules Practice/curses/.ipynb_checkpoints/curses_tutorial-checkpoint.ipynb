{
 "cells": [
  {
   "cell_type": "markdown",
   "metadata": {},
   "source": [
    "# Curses Tutorial"
   ]
  },
  {
   "cell_type": "markdown",
   "metadata": {},
   "source": [
    "https://www.devdungeon.com/content/curses-programming-python"
   ]
  },
  {
   "cell_type": "markdown",
   "metadata": {},
   "source": [
    "Create a screen"
   ]
  },
  {
   "cell_type": "code",
   "execution_count": 2,
   "metadata": {},
   "outputs": [
    {
     "name": "stdout",
     "output_type": "stream",
     "text": [
      "Preparing to initialize screen...\n",
      "Screen initialized.\n",
      "Window ended.\n"
     ]
    }
   ],
   "source": [
    "\n",
    "import curses\n",
    "\n",
    "print(\"Preparing to initialize screen...\")\n",
    "screen = curses.initscr()\n",
    "print(\"Screen initialized.\")\n",
    "\n",
    "screen.refresh()\n",
    "curses.napms(2000)\n",
    "curses.endwin()\n",
    "\n",
    "print(\"Window ended.\")\n"
   ]
  },
  {
   "cell_type": "markdown",
   "metadata": {},
   "source": [
    "Print text to screen"
   ]
  },
  {
   "cell_type": "code",
   "execution_count": 4,
   "metadata": {},
   "outputs": [],
   "source": [
    "\n",
    "screen = curses.initscr()\n",
    "\n",
    "# Update the buffer, adding text at different locations\n",
    "screen.addstr(0, 0, 'This string gets added at (0, 0)')\n",
    "screen.addstr(1, 3, 'Try Russian text: Привет')  # Python 3 required for unicode\n",
    "screen.addstr(4, 4, 'X')\n",
    "screen.addstr(5, 5, 'Y')\n",
    "screen.refresh()\n",
    "\n",
    "# Changes go in to the screen buffer and only get\n",
    "# displayed after calling `refresh()` to update\n",
    "screen.refresh()\n",
    "curses.napms(3000)\n",
    "curses.endwin()\n"
   ]
  },
  {
   "cell_type": "markdown",
   "metadata": {},
   "source": [
    "Clear the screen"
   ]
  },
  {
   "cell_type": "code",
   "execution_count": 6,
   "metadata": {},
   "outputs": [],
   "source": [
    "\n",
    "screen = curses.initscr()\n",
    "screen.addstr('Hello, I will be cleared in two seconds.')\n",
    "screen.refresh()\n",
    "curses.napms(2000)\n",
    "\n",
    "# Wipe the screen buffer and set the cursor to 0,0\n",
    "screen.clear()\n",
    "\n",
    "screen.refresh()\n",
    "curses.napms(2000)\n",
    "\n",
    "curses.endwin()\n"
   ]
  },
  {
   "cell_type": "markdown",
   "metadata": {},
   "source": [
    "Windows"
   ]
  },
  {
   "cell_type": "code",
   "execution_count": 7,
   "metadata": {},
   "outputs": [],
   "source": [
    "\n",
    "# The `screen` is a window that acts as the master window\n",
    "# that takes up the whole screen. Other windows created\n",
    "# later will get painted on to the `screen` window.\n",
    "\n",
    "screen = curses.initscr()\n",
    "screen.keypad(True)\n",
    "curses.noecho()\n",
    "curses.cbreak(True)\n",
    "\n",
    "# lines, columns, start line, start column\n",
    "my_window = curses.newwin(15, 20, 0, 0)\n",
    "\n",
    "# Long strings will wrap to the next line automatically\n",
    "# to stay within the window\n",
    "my_window.addstr(4, 4, \"Hello from 4,4\")\n",
    "my_window.addstr(5, 15, \"Hello from 5,15 with a long string\")\n",
    "\n",
    "# Print the window to the screen\n",
    "my_window.refresh()\n",
    "curses.napms(2000)\n",
    "\n",
    "# Clear the screen, clearing my_window contents that were printed to screen\n",
    "# my_window will retain its contents until my_window.clear() is called.\n",
    "screen.clear()\n",
    "screen.refresh()\n",
    "\n",
    "# Move the window and put it back on screen\n",
    "# If we didn't clear the screen before doing this,\n",
    "# the original window contents would remain on the screen\n",
    "# and we would see the window text twice.\n",
    "# my_window.mvwin(10, 10)\n",
    "my_window.refresh()\n",
    "curses.napms(1000)\n",
    "\n",
    "# Clear the window and redraw over the current window space\n",
    "# This does not require clearing the whole screen, because the window\n",
    "# has not moved position.\n",
    "my_window.clear()\n",
    "my_window.refresh()\n",
    "if my_window.getch() == curses.KEY_MOUSE:\n",
    "    curses.napms(1000)\n",
    "    curses.endwin()\n",
    "    "
   ]
  },
  {
   "cell_type": "markdown",
   "metadata": {},
   "source": [
    "Pad"
   ]
  },
  {
   "cell_type": "code",
   "execution_count": 8,
   "metadata": {},
   "outputs": [],
   "source": [
    "\n",
    "screen = curses.initscr()\n",
    "curses.noecho()\n",
    "curses.cbreak()\n",
    "screen.keypad(True)\n",
    "\n",
    "# Make a pad 100 lines tall 20 chars wide\n",
    "# Make the pad large enough to fit the contents you want\n",
    "# You cannot add text larger than the pad\n",
    "# We are only going to add one line and barely use any of the space\n",
    "pad = curses.newpad(100, 100)\n",
    "pad.addstr(\"This text is thirty characters\")\n",
    "\n",
    "# Start printing text from (0,2) of the pad (first line, 3rd char)\n",
    "# on the screen at position (5,5)\n",
    "# with the maximum portion of the pad displayed being 20 chars x 15 lines\n",
    "# Since we only have one line, the 15 lines is overkill, but the 20 chars\n",
    "# will only show 20 characters before cutting off\n",
    "pad.refresh(0, 0, 10, 10, 20, 20)\n",
    "\n",
    "curses.napms(3000)\n",
    "curses.endwin()\n"
   ]
  },
  {
   "cell_type": "markdown",
   "metadata": {},
   "source": [
    "Center text"
   ]
  },
  {
   "cell_type": "code",
   "execution_count": 9,
   "metadata": {},
   "outputs": [],
   "source": [
    "\n",
    "screen = curses.initscr()\n",
    "num_rows, num_cols = screen.getmaxyx()\n",
    "\n",
    "\n",
    "# Make a function to print a line in the center of screen\n",
    "def print_center(message):\n",
    "    # Calculate center row\n",
    "    middle_row = int(num_rows / 2)\n",
    "\n",
    "    # Calculate center column, and then adjust starting position based\n",
    "    # on the length of the message\n",
    "    half_length_of_message = int(len(message) / 2)\n",
    "    middle_column = int(num_cols / 2)\n",
    "    x_position = middle_column - half_length_of_message\n",
    "\n",
    "    # Draw the text\n",
    "    screen.addstr(middle_row, x_position, message)\n",
    "    screen.refresh()\n",
    "\n",
    "\n",
    "print_center(\"Hello from the center!\")\n",
    "\n",
    "# Wait and cleanup\n",
    "curses.napms(3000)\n",
    "curses.endwin()\n"
   ]
  },
  {
   "cell_type": "raw",
   "metadata": {},
   "source": [
    "Turning blinking cursor on and off"
   ]
  },
  {
   "cell_type": "code",
   "execution_count": 10,
   "metadata": {},
   "outputs": [
    {
     "ename": "error",
     "evalue": "curs_set() returned ERR",
     "output_type": "error",
     "traceback": [
      "\u001b[0;31m---------------------------------------------------------------------------\u001b[0m",
      "\u001b[0;31merror\u001b[0m                                     Traceback (most recent call last)",
      "\u001b[0;32m<ipython-input-10-31fbff96033e>\u001b[0m in \u001b[0;36m<module>\u001b[0;34m\u001b[0m\n\u001b[1;32m      1\u001b[0m \u001b[0mscreen\u001b[0m \u001b[0;34m=\u001b[0m \u001b[0mcurses\u001b[0m\u001b[0;34m.\u001b[0m\u001b[0minitscr\u001b[0m\u001b[0;34m(\u001b[0m\u001b[0;34m)\u001b[0m\u001b[0;34m\u001b[0m\u001b[0;34m\u001b[0m\u001b[0m\n\u001b[1;32m      2\u001b[0m \u001b[0;34m\u001b[0m\u001b[0m\n\u001b[0;32m----> 3\u001b[0;31m \u001b[0mcurses\u001b[0m\u001b[0;34m.\u001b[0m\u001b[0mcurs_set\u001b[0m\u001b[0;34m(\u001b[0m\u001b[0;36m0\u001b[0m\u001b[0;34m)\u001b[0m\u001b[0;34m\u001b[0m\u001b[0;34m\u001b[0m\u001b[0m\n\u001b[0m\u001b[1;32m      4\u001b[0m \u001b[0mscreen\u001b[0m\u001b[0;34m.\u001b[0m\u001b[0maddstr\u001b[0m\u001b[0;34m(\u001b[0m\u001b[0;36m2\u001b[0m\u001b[0;34m,\u001b[0m \u001b[0;36m2\u001b[0m\u001b[0;34m,\u001b[0m \u001b[0;34m\"Hello, I disabled the cursor!\"\u001b[0m\u001b[0;34m)\u001b[0m\u001b[0;34m\u001b[0m\u001b[0;34m\u001b[0m\u001b[0m\n\u001b[1;32m      5\u001b[0m \u001b[0mscreen\u001b[0m\u001b[0;34m.\u001b[0m\u001b[0mrefresh\u001b[0m\u001b[0;34m(\u001b[0m\u001b[0;34m)\u001b[0m\u001b[0;34m\u001b[0m\u001b[0;34m\u001b[0m\u001b[0m\n",
      "\u001b[0;31merror\u001b[0m: curs_set() returned ERR"
     ]
    }
   ],
   "source": [
    "\n",
    "screen = curses.initscr()\n",
    "\n",
    "curses.curs_set(0)\n",
    "screen.addstr(2, 2, \"Hello, I disabled the cursor!\")\n",
    "screen.refresh()\n",
    "curses.napms(3000)\n",
    "\n",
    "curses.curs_set(1)\n",
    "screen.addstr(3, 2, \"And now the cursor is back on.\")\n",
    "screen.refresh()\n",
    "curses.napms(3000)\n",
    "\n",
    "curses.endwin()\n"
   ]
  },
  {
   "cell_type": "markdown",
   "metadata": {},
   "source": [
    "Format text"
   ]
  },
  {
   "cell_type": "code",
   "execution_count": null,
   "metadata": {},
   "outputs": [],
   "source": [
    "\n",
    "screen = curses.initscr()\n",
    "\n",
    "# Initialize color in a separate step\n",
    "curses.start_color()\n",
    "\n",
    "# Change style: bold, highlighted, and underlined text\n",
    "screen.addstr(\"Regular text\\n\")\n",
    "screen.addstr(\"Bold\\n\", curses.A_BOLD)\n",
    "screen.addstr(\"Highlighted\\n\", curses.A_STANDOUT)\n",
    "screen.addstr(\"Underline\\n\", curses.A_UNDERLINE)\n",
    "screen.addstr(\"Regular text again\\n\")\n",
    "\n",
    "# Create a custom color set that you might re-use frequently\n",
    "# Assign it a number (1-255), a foreground, and background color.\n",
    "curses.init_pair(1, curses.COLOR_RED, curses.COLOR_WHITE)\n",
    "screen.addstr(\"RED ALERT!\\n\", curses.color_pair(1))\n",
    "\n",
    "# Combine multiple attributes with bitwise OR\n",
    "screen.addstr(\"SUPER RED ALERT!\\n\", curses.color_pair(1) | curses.A_BOLD | curses.A_UNDERLINE | curses.A_BLINK)\n",
    "\n",
    "screen.refresh()\n",
    "curses.napms(3000)\n"
   ]
  },
  {
   "cell_type": "markdown",
   "metadata": {},
   "source": [
    "Wait for key press"
   ]
  },
  {
   "cell_type": "code",
   "execution_count": 11,
   "metadata": {},
   "outputs": [
    {
     "ename": "ValueError",
     "evalue": "chr() arg not in range(0x110000)",
     "output_type": "error",
     "traceback": [
      "\u001b[0;31m---------------------------------------------------------------------------\u001b[0m",
      "\u001b[0;31mValueError\u001b[0m                                Traceback (most recent call last)",
      "\u001b[0;32m<ipython-input-11-007e6b4ed029>\u001b[0m in \u001b[0;36m<module>\u001b[0;34m\u001b[0m\n\u001b[1;32m     13\u001b[0m \u001b[0;34m\u001b[0m\u001b[0m\n\u001b[1;32m     14\u001b[0m \u001b[0;31m# Convert the key to ASCII and print ordinal value\u001b[0m\u001b[0;34m\u001b[0m\u001b[0;34m\u001b[0m\u001b[0;34m\u001b[0m\u001b[0m\n\u001b[0;32m---> 15\u001b[0;31m \u001b[0mprint\u001b[0m\u001b[0;34m(\u001b[0m\u001b[0;34m\"You pressed %s which is keycode %d.\"\u001b[0m \u001b[0;34m%\u001b[0m \u001b[0;34m(\u001b[0m\u001b[0mchr\u001b[0m\u001b[0;34m(\u001b[0m\u001b[0mc\u001b[0m\u001b[0;34m)\u001b[0m\u001b[0;34m,\u001b[0m \u001b[0mc\u001b[0m\u001b[0;34m)\u001b[0m\u001b[0;34m)\u001b[0m\u001b[0;34m\u001b[0m\u001b[0;34m\u001b[0m\u001b[0m\n\u001b[0m",
      "\u001b[0;31mValueError\u001b[0m: chr() arg not in range(0x110000)"
     ]
    }
   ],
   "source": [
    "\n",
    "screen = curses.initscr()\n",
    "curses.start_color()\n",
    "\n",
    "curses.init_pair(1, curses.COLOR_RED, curses.COLOR_BLUE)\n",
    "screen.attron(curses.color_pair(1))\n",
    "screen.addstr(\"Press any key...\", curses.A_BOLD)\n",
    "screen.attron(curses.color_pair(1))\n",
    "screen.refresh()\n",
    "\n",
    "c = screen.getch()\n",
    "\n",
    "curses.endwin()\n",
    "\n",
    "# Convert the key to ASCII and print ordinal value\n",
    "print(\"You pressed %s which is keycode %d.\" % (chr(c), c))\n"
   ]
  },
  {
   "cell_type": "markdown",
   "metadata": {},
   "source": [
    "Using wrapper"
   ]
  },
  {
   "cell_type": "code",
   "execution_count": 12,
   "metadata": {},
   "outputs": [
    {
     "ename": "error",
     "evalue": "curs_set() returned ERR",
     "output_type": "error",
     "traceback": [
      "\u001b[0;31m---------------------------------------------------------------------------\u001b[0m",
      "\u001b[0;31merror\u001b[0m                                     Traceback (most recent call last)",
      "\u001b[0;32m<ipython-input-12-2e258cc027cc>\u001b[0m in \u001b[0;36m<module>\u001b[0;34m\u001b[0m\n\u001b[1;32m     13\u001b[0m \u001b[0;34m\u001b[0m\u001b[0m\n\u001b[1;32m     14\u001b[0m \u001b[0mscreen\u001b[0m \u001b[0;34m=\u001b[0m \u001b[0mcurses\u001b[0m\u001b[0;34m.\u001b[0m\u001b[0minitscr\u001b[0m\u001b[0;34m(\u001b[0m\u001b[0;34m)\u001b[0m\u001b[0;34m\u001b[0m\u001b[0;34m\u001b[0m\u001b[0m\n\u001b[0;32m---> 15\u001b[0;31m \u001b[0mwrapper\u001b[0m\u001b[0;34m(\u001b[0m\u001b[0mmain\u001b[0m\u001b[0;34m)\u001b[0m\u001b[0;34m\u001b[0m\u001b[0;34m\u001b[0m\u001b[0m\n\u001b[0m",
      "\u001b[0;32m/usr/local/anaconda3/lib/python3.7/curses/__init__.py\u001b[0m in \u001b[0;36mwrapper\u001b[0;34m(*args, **kwds)\u001b[0m\n\u001b[1;32m    100\u001b[0m             \u001b[0;32mpass\u001b[0m\u001b[0;34m\u001b[0m\u001b[0;34m\u001b[0m\u001b[0m\n\u001b[1;32m    101\u001b[0m \u001b[0;34m\u001b[0m\u001b[0m\n\u001b[0;32m--> 102\u001b[0;31m         \u001b[0;32mreturn\u001b[0m \u001b[0mfunc\u001b[0m\u001b[0;34m(\u001b[0m\u001b[0mstdscr\u001b[0m\u001b[0;34m,\u001b[0m \u001b[0;34m*\u001b[0m\u001b[0margs\u001b[0m\u001b[0;34m,\u001b[0m \u001b[0;34m**\u001b[0m\u001b[0mkwds\u001b[0m\u001b[0;34m)\u001b[0m\u001b[0;34m\u001b[0m\u001b[0;34m\u001b[0m\u001b[0m\n\u001b[0m\u001b[1;32m    103\u001b[0m     \u001b[0;32mfinally\u001b[0m\u001b[0;34m:\u001b[0m\u001b[0;34m\u001b[0m\u001b[0;34m\u001b[0m\u001b[0m\n\u001b[1;32m    104\u001b[0m         \u001b[0;31m# Set everything back to normal\u001b[0m\u001b[0;34m\u001b[0m\u001b[0;34m\u001b[0m\u001b[0;34m\u001b[0m\u001b[0m\n",
      "\u001b[0;32m<ipython-input-12-2e258cc027cc>\u001b[0m in \u001b[0;36mmain\u001b[0;34m(main_screen)\u001b[0m\n\u001b[1;32m      9\u001b[0m     \u001b[0mmain_screen\u001b[0m\u001b[0;34m.\u001b[0m\u001b[0mrefresh\u001b[0m\u001b[0;34m(\u001b[0m\u001b[0;34m)\u001b[0m\u001b[0;34m\u001b[0m\u001b[0;34m\u001b[0m\u001b[0m\n\u001b[1;32m     10\u001b[0m     \u001b[0mcurses\u001b[0m\u001b[0;34m.\u001b[0m\u001b[0mnapms\u001b[0m\u001b[0;34m(\u001b[0m\u001b[0;36m3000\u001b[0m\u001b[0;34m)\u001b[0m\u001b[0;34m\u001b[0m\u001b[0;34m\u001b[0m\u001b[0m\n\u001b[0;32m---> 11\u001b[0;31m     \u001b[0mcurses\u001b[0m\u001b[0;34m.\u001b[0m\u001b[0mcurs_set\u001b[0m\u001b[0;34m(\u001b[0m\u001b[0;36m1\u001b[0m\u001b[0;34m)\u001b[0m\u001b[0;34m\u001b[0m\u001b[0;34m\u001b[0m\u001b[0m\n\u001b[0m\u001b[1;32m     12\u001b[0m \u001b[0;34m\u001b[0m\u001b[0m\n\u001b[1;32m     13\u001b[0m \u001b[0;34m\u001b[0m\u001b[0m\n",
      "\u001b[0;31merror\u001b[0m: curs_set() returned ERR"
     ]
    }
   ],
   "source": [
    "\n",
    "from curses import wrapper\n",
    "\n",
    "def main(main_screen):\n",
    "    main_screen.clear()\n",
    "    curses.start_color()\n",
    "    main_screen.attron(curses.color_pair(4))\n",
    "    main_screen.attron(curses.A_BLINK)\n",
    "    main_screen.addstr('Some text.', curses.COLOR_YELLOW)\n",
    "    main_screen.refresh()\n",
    "    curses.napms(3000)\n",
    "    curses.curs_set(1)\n",
    "\n",
    "\n",
    "screen = curses.initscr()\n",
    "wrapper(main)\n"
   ]
  },
  {
   "cell_type": "code",
   "execution_count": null,
   "metadata": {},
   "outputs": [],
   "source": []
  }
 ],
 "metadata": {
  "kernelspec": {
   "display_name": "Python 3",
   "language": "python",
   "name": "python3"
  },
  "language_info": {
   "codemirror_mode": {
    "name": "ipython",
    "version": 3
   },
   "file_extension": ".py",
   "mimetype": "text/x-python",
   "name": "python",
   "nbconvert_exporter": "python",
   "pygments_lexer": "ipython3",
   "version": "3.7.6"
  },
  "varInspector": {
   "cols": {
    "lenName": 16,
    "lenType": 16,
    "lenVar": 40
   },
   "kernels_config": {
    "python": {
     "delete_cmd_postfix": "",
     "delete_cmd_prefix": "del ",
     "library": "var_list.py",
     "varRefreshCmd": "print(var_dic_list())"
    },
    "r": {
     "delete_cmd_postfix": ") ",
     "delete_cmd_prefix": "rm(",
     "library": "var_list.r",
     "varRefreshCmd": "cat(var_dic_list()) "
    }
   },
   "types_to_exclude": [
    "module",
    "function",
    "builtin_function_or_method",
    "instance",
    "_Feature"
   ],
   "window_display": false
  }
 },
 "nbformat": 4,
 "nbformat_minor": 4
}
