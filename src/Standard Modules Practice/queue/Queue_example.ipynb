{
 "cells": [
  {
   "cell_type": "markdown",
   "metadata": {},
   "source": [
    "# Queue Example"
   ]
  },
  {
   "cell_type": "code",
   "execution_count": null,
   "metadata": {},
   "outputs": [],
   "source": [
    "\n",
    "from queue import Queue\n",
    "\n",
    "q = Queue(maxsize=20)\n",
    "\n",
    "print(f'q is empty? {q.empty()}')\n",
    "\n",
    "for i in range(18):\n",
    "    q.put(item=i, block=False)\n",
    "\n",
    "print(f'q size = {q.qsize()}')\n",
    "\n",
    "q.put_nowait(item='Q')\n",
    "q.put_nowait(item=True)\n",
    "\n",
    "print(f'q is full? {q.full()}')\n",
    "\n",
    "q.put(item='First', block=True)\n",
    "q.put(item='Second', block=True)\n",
    "q.put(item='Third', block=True)\n",
    "\n",
    "q_item = q.get()\n",
    "print(q_item)\n",
    "q_item = q.get()\n",
    "print(q_item)\n",
    "\n",
    "print(f'q size after 2 items dequeued = {q.qsize()}')\n",
    "\n",
    "q.put(item=3.34, wait=10)\n",
    "print(f'get item waiting no more than 100 ms = {q.get(wait=100)}')\n"
   ]
  },
  {
   "cell_type": "code",
   "execution_count": null,
   "metadata": {},
   "outputs": [],
   "source": [
    "\n",
    "print('The rest of q = ', end='')\n",
    "\n",
    "while not q.empty():\n",
    "    print(f'{q.get()}, ', end='')\n",
    "\n",
    "print(f'q is empty? {q.empty()}')"
   ]
  },
  {
   "cell_type": "code",
   "execution_count": null,
   "metadata": {},
   "outputs": [],
   "source": []
  }
 ],
 "metadata": {
  "kernelspec": {
   "display_name": "Python 3",
   "language": "python",
   "name": "python3"
  },
  "language_info": {
   "codemirror_mode": {
    "name": "ipython",
    "version": 3
   },
   "file_extension": ".py",
   "mimetype": "text/x-python",
   "name": "python",
   "nbconvert_exporter": "python",
   "pygments_lexer": "ipython3",
   "version": "3.8.3"
  }
 },
 "nbformat": 4,
 "nbformat_minor": 4
}
