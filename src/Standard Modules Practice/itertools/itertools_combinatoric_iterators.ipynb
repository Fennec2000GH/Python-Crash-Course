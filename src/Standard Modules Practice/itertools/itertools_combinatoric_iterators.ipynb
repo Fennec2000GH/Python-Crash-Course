{
 "cells": [
  {
   "cell_type": "markdown",
   "metadata": {},
   "source": [
    "# itertools"
   ]
  },
  {
   "cell_type": "markdown",
   "metadata": {},
   "source": [
    "The set of iterator tools, or shortened to itertools provides the essential building-block functions for iterators. The entire set of itertools collectively bolster a domain of \"iterator algebra.\" This is thanks to the very numerous fast and efficient functions provided."
   ]
  },
  {
   "cell_type": "markdown",
   "metadata": {},
   "source": [
    "## Combinatoric Iterators"
   ]
  },
  {
   "cell_type": "markdown",
   "metadata": {},
   "source": [
    "itertools.product(*iterables, repeat=1) <br><br>\n",
    "Cartesian product of input iterables. To compute the product of an iterable with itself, specify the number of repetitions with the optional <i>repeat</i> keyword argument."
   ]
  },
  {
   "cell_type": "code",
   "execution_count": 6,
   "metadata": {},
   "outputs": [
    {
     "name": "stdout",
     "output_type": "stream",
     "text": [
      "[(0, 'a', True), (0, 'a', False), (0, 'b', True), (0, 'b', False), (0, 'c', True), (0, 'c', False), (1, 'a', True), (1, 'a', False), (1, 'b', True), (1, 'b', False), (1, 'c', True), (1, 'c', False), (2, 'a', True), (2, 'a', False), (2, 'b', True), (2, 'b', False), (2, 'c', True), (2, 'c', False)]\n",
      "\n",
      " [(True, True, True, True), (True, True, True, False), (True, True, False, True), (True, True, False, False), (True, False, True, True), (True, False, True, False), (True, False, False, True), (True, False, False, False), (False, True, True, True), (False, True, True, False), (False, True, False, True), (False, True, False, False), (False, False, True, True), (False, False, True, False), (False, False, False, True), (False, False, False, False)]\n",
      "\n",
      " [(0, 'a', 0, 'a'), (0, 'a', 0, 'b'), (0, 'a', 0, 'c'), (0, 'a', 1, 'a'), (0, 'a', 1, 'b'), (0, 'a', 1, 'c'), (0, 'a', 2, 'a'), (0, 'a', 2, 'b'), (0, 'a', 2, 'c'), (0, 'b', 0, 'a'), (0, 'b', 0, 'b'), (0, 'b', 0, 'c'), (0, 'b', 1, 'a'), (0, 'b', 1, 'b'), (0, 'b', 1, 'c'), (0, 'b', 2, 'a'), (0, 'b', 2, 'b'), (0, 'b', 2, 'c'), (0, 'c', 0, 'a'), (0, 'c', 0, 'b'), (0, 'c', 0, 'c'), (0, 'c', 1, 'a'), (0, 'c', 1, 'b'), (0, 'c', 1, 'c'), (0, 'c', 2, 'a'), (0, 'c', 2, 'b'), (0, 'c', 2, 'c'), (1, 'a', 0, 'a'), (1, 'a', 0, 'b'), (1, 'a', 0, 'c'), (1, 'a', 1, 'a'), (1, 'a', 1, 'b'), (1, 'a', 1, 'c'), (1, 'a', 2, 'a'), (1, 'a', 2, 'b'), (1, 'a', 2, 'c'), (1, 'b', 0, 'a'), (1, 'b', 0, 'b'), (1, 'b', 0, 'c'), (1, 'b', 1, 'a'), (1, 'b', 1, 'b'), (1, 'b', 1, 'c'), (1, 'b', 2, 'a'), (1, 'b', 2, 'b'), (1, 'b', 2, 'c'), (1, 'c', 0, 'a'), (1, 'c', 0, 'b'), (1, 'c', 0, 'c'), (1, 'c', 1, 'a'), (1, 'c', 1, 'b'), (1, 'c', 1, 'c'), (1, 'c', 2, 'a'), (1, 'c', 2, 'b'), (1, 'c', 2, 'c'), (2, 'a', 0, 'a'), (2, 'a', 0, 'b'), (2, 'a', 0, 'c'), (2, 'a', 1, 'a'), (2, 'a', 1, 'b'), (2, 'a', 1, 'c'), (2, 'a', 2, 'a'), (2, 'a', 2, 'b'), (2, 'a', 2, 'c'), (2, 'b', 0, 'a'), (2, 'b', 0, 'b'), (2, 'b', 0, 'c'), (2, 'b', 1, 'a'), (2, 'b', 1, 'b'), (2, 'b', 1, 'c'), (2, 'b', 2, 'a'), (2, 'b', 2, 'b'), (2, 'b', 2, 'c'), (2, 'c', 0, 'a'), (2, 'c', 0, 'b'), (2, 'c', 0, 'c'), (2, 'c', 1, 'a'), (2, 'c', 1, 'b'), (2, 'c', 1, 'c'), (2, 'c', 2, 'a'), (2, 'c', 2, 'b'), (2, 'c', 2, 'c')]\n"
     ]
    }
   ],
   "source": [
    "\n",
    "import itertools\n",
    "\n",
    "data_1 = range(3)\n",
    "data_2 = list('abc')\n",
    "data_3 = [True, False]\n",
    "it = itertools.product(data_1, data_2, data_3)\n",
    "print(list(it))\n",
    "\n",
    "it = itertools.product(data_3, repeat=4)\n",
    "print('\\n', list(it))\n",
    "\n",
    "it = itertools.product(data_1, data_2, repeat=2)\n",
    "print('\\n', list(it))\n"
   ]
  },
  {
   "cell_type": "markdown",
   "metadata": {},
   "source": [
    "itertools.permutations(iterable, r=None)\n",
    "Return successive r length permutations of elements in the iterable.<br><br>\n",
    "\n",
    "If r is not specified or is None, then r defaults to the length of the iterable and all possible full-length permutations are generated.<br><br>\n",
    "\n",
    "The permutation tuples are emitted in lexicographic ordering according to the order of the input iterable. So, if the input iterable is sorted, the combination tuples will be produced in sorted order.<br><br>\n",
    "\n",
    "Elements are treated as unique based on their position, not on their value. So if the input elements are unique, there will be no repeat values in each permutation."
   ]
  },
  {
   "cell_type": "code",
   "execution_count": 9,
   "metadata": {},
   "outputs": [
    {
     "name": "stdout",
     "output_type": "stream",
     "text": [
      "[('red', 'green', 'blue'), ('red', 'blue', 'green'), ('green', 'red', 'blue'), ('green', 'blue', 'red'), ('blue', 'red', 'green'), ('blue', 'green', 'red')]\n",
      "['a', 'b', 'c', 'd', 'e', 'f']\n"
     ]
    }
   ],
   "source": [
    "\n",
    "import itertools\n",
    "\n",
    "data = ['red', 'green', 'blue']\n",
    "it = itertools.permutations(data)\n",
    "print(list(it))\n",
    "\n",
    "data = list('abcdef')\n",
    "it = itertools.permutations(data, r=5)\n",
    "print(list(data))\n"
   ]
  },
  {
   "cell_type": "markdown",
   "metadata": {},
   "source": [
    "itertools.combinations(iterable, r) <br><br>\n",
    "Return r length subsequences of elements from the input iterable. <br><br>\n",
    "\n",
    "The combination tuples are emitted in lexicographic ordering according to the order of the input iterable. So, if the input iterable is sorted, the combination tuples will be produced in sorted order. <br><br>\n",
    "\n",
    "Elements are treated as unique based on their position, not on their value. So if the input elements are unique, there will be no repeat values in each combination."
   ]
  },
  {
   "cell_type": "code",
   "execution_count": 15,
   "metadata": {},
   "outputs": [
    {
     "name": "stdout",
     "output_type": "stream",
     "text": [
      "[()]\n",
      "[('a',), ('b',), ('c',), ('d',), ('e',), ('f',)]\n",
      "[('a', 'b'), ('a', 'c'), ('a', 'd'), ('a', 'e'), ('a', 'f'), ('b', 'c'), ('b', 'd'), ('b', 'e'), ('b', 'f'), ('c', 'd'), ('c', 'e'), ('c', 'f'), ('d', 'e'), ('d', 'f'), ('e', 'f')]\n",
      "[('a', 'b', 'c'), ('a', 'b', 'd'), ('a', 'b', 'e'), ('a', 'b', 'f'), ('a', 'c', 'd'), ('a', 'c', 'e'), ('a', 'c', 'f'), ('a', 'd', 'e'), ('a', 'd', 'f'), ('a', 'e', 'f'), ('b', 'c', 'd'), ('b', 'c', 'e'), ('b', 'c', 'f'), ('b', 'd', 'e'), ('b', 'd', 'f'), ('b', 'e', 'f'), ('c', 'd', 'e'), ('c', 'd', 'f'), ('c', 'e', 'f'), ('d', 'e', 'f')]\n",
      "[('a', 'b', 'c', 'd'), ('a', 'b', 'c', 'e'), ('a', 'b', 'c', 'f'), ('a', 'b', 'd', 'e'), ('a', 'b', 'd', 'f'), ('a', 'b', 'e', 'f'), ('a', 'c', 'd', 'e'), ('a', 'c', 'd', 'f'), ('a', 'c', 'e', 'f'), ('a', 'd', 'e', 'f'), ('b', 'c', 'd', 'e'), ('b', 'c', 'd', 'f'), ('b', 'c', 'e', 'f'), ('b', 'd', 'e', 'f'), ('c', 'd', 'e', 'f')]\n",
      "[('a', 'b', 'c', 'd', 'e'), ('a', 'b', 'c', 'd', 'f'), ('a', 'b', 'c', 'e', 'f'), ('a', 'b', 'd', 'e', 'f'), ('a', 'c', 'd', 'e', 'f'), ('b', 'c', 'd', 'e', 'f')]\n",
      "[('a', 'b', 'c', 'd', 'e', 'f')]\n"
     ]
    }
   ],
   "source": [
    "\n",
    "import itertools\n",
    "\n",
    "data = list('abcdef')\n",
    "for r in range(7):\n",
    "    \"\"\"print each possible setof combinations by changing r\"\"\"\n",
    "    print(list(itertools.combinations(data, r=r)))\n"
   ]
  },
  {
   "cell_type": "markdown",
   "metadata": {},
   "source": [
    "itertools.combinations_with_replacement(iterable, r) <br><br>\n",
    "Return r length subsequences of elements from the input iterable allowing individual elements to be repeated more than once.<br><br>\n",
    "\n",
    "The combination tuples are emitted in lexicographic ordering according to the order of the input iterable. So, if the input iterable is sorted, the combination tuples will be produced in sorted order.<br><br>\n",
    "\n",
    "Elements are treated as unique based on their position, not on their value. So if the input elements are unique, the generated combinations will also be unique."
   ]
  },
  {
   "cell_type": "code",
   "execution_count": 21,
   "metadata": {},
   "outputs": [
    {
     "name": "stdout",
     "output_type": "stream",
     "text": [
      "[('a', 'a', 'a'), ('a', 'a', 'b'), ('a', 'a', 'c'), ('a', 'a', 'd'), ('a', 'a', 'e'), ('a', 'a', 'f'), ('a', 'b', 'b'), ('a', 'b', 'c'), ('a', 'b', 'd'), ('a', 'b', 'e'), ('a', 'b', 'f'), ('a', 'c', 'c'), ('a', 'c', 'd'), ('a', 'c', 'e'), ('a', 'c', 'f'), ('a', 'd', 'd'), ('a', 'd', 'e'), ('a', 'd', 'f'), ('a', 'e', 'e'), ('a', 'e', 'f'), ('a', 'f', 'f'), ('b', 'b', 'b'), ('b', 'b', 'c'), ('b', 'b', 'd'), ('b', 'b', 'e'), ('b', 'b', 'f'), ('b', 'c', 'c'), ('b', 'c', 'd'), ('b', 'c', 'e'), ('b', 'c', 'f'), ('b', 'd', 'd'), ('b', 'd', 'e'), ('b', 'd', 'f'), ('b', 'e', 'e'), ('b', 'e', 'f'), ('b', 'f', 'f'), ('c', 'c', 'c'), ('c', 'c', 'd'), ('c', 'c', 'e'), ('c', 'c', 'f'), ('c', 'd', 'd'), ('c', 'd', 'e'), ('c', 'd', 'f'), ('c', 'e', 'e'), ('c', 'e', 'f'), ('c', 'f', 'f'), ('d', 'd', 'd'), ('d', 'd', 'e'), ('d', 'd', 'f'), ('d', 'e', 'e'), ('d', 'e', 'f'), ('d', 'f', 'f'), ('e', 'e', 'e'), ('e', 'e', 'f'), ('e', 'f', 'f'), ('f', 'f', 'f')]\n",
      "1\n",
      "6\n",
      "21\n",
      "56\n",
      "126\n",
      "252\n",
      "462\n"
     ]
    }
   ],
   "source": [
    "\n",
    "import itertools\n",
    "\n",
    "data = list('abcdef')\n",
    "print(list(itertools.combinations_with_replacement(data, r=3)))\n",
    "for r in range(7):\n",
    "    \"\"\"print each possible setof combinations by changing r\"\"\"\n",
    "    t = list(itertools.combinations_with_replacement(data, r=r))\n",
    "    print(len(t))\n",
    "    \n",
    "    "
   ]
  },
  {
   "cell_type": "code",
   "execution_count": null,
   "metadata": {},
   "outputs": [],
   "source": []
  }
 ],
 "metadata": {
  "kernelspec": {
   "display_name": "Python 3",
   "language": "python",
   "name": "python3"
  },
  "language_info": {
   "codemirror_mode": {
    "name": "ipython",
    "version": 3
   },
   "file_extension": ".py",
   "mimetype": "text/x-python",
   "name": "python",
   "nbconvert_exporter": "python",
   "pygments_lexer": "ipython3",
   "version": "3.7.6"
  },
  "varInspector": {
   "cols": {
    "lenName": 16,
    "lenType": 16,
    "lenVar": 40
   },
   "kernels_config": {
    "python": {
     "delete_cmd_postfix": "",
     "delete_cmd_prefix": "del ",
     "library": "var_list.py",
     "varRefreshCmd": "print(var_dic_list())"
    },
    "r": {
     "delete_cmd_postfix": ") ",
     "delete_cmd_prefix": "rm(",
     "library": "var_list.r",
     "varRefreshCmd": "cat(var_dic_list()) "
    }
   },
   "types_to_exclude": [
    "module",
    "function",
    "builtin_function_or_method",
    "instance",
    "_Feature"
   ],
   "window_display": false
  }
 },
 "nbformat": 4,
 "nbformat_minor": 4
}
