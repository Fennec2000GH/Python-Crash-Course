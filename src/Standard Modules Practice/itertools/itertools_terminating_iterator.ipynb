{
 "cells": [
  {
   "cell_type": "markdown",
   "metadata": {},
   "source": [
    "# itertools"
   ]
  },
  {
   "cell_type": "markdown",
   "metadata": {},
   "source": [
    "The set of <i>iterator tools</i>, or shortened to <i>itertools</i> provides the essential building-block functions for <i>iterators</i>. The entire set of <i>itertools</i> collectively bolster a domain of \"</i>iterator algebra</i>.\" This is thanks to the very numerous fast and efficient functions provided."
   ]
  },
  {
   "cell_type": "markdown",
   "metadata": {},
   "source": [
    "## Iterators terminating on the shortest input sequence"
   ]
  },
  {
   "cell_type": "markdown",
   "metadata": {},
   "source": [
    "itertools.accumulate(iterable[, func, *, initial=None]) <br><br>\n",
    "Make an iterator that returns accumulated sums, or accumulated results of other binary functions (specified via the optional func argument).\n",
    "\n",
    "If func is supplied, it should be a function of two arguments. Elements of the input iterable may be any type that can be accepted as arguments to func. (For example, with the default operation of addition, elements may be any addable type including Decimal or Fraction.)\n",
    "\n",
    "Usually, the number of elements output matches the input iterable. However, if the keyword argument initial is provided, the accumulation leads off with the initial value so that the output has one more element than the input iterable."
   ]
  },
  {
   "cell_type": "code",
   "execution_count": 47,
   "metadata": {},
   "outputs": [
    {
     "name": "stdout",
     "output_type": "stream",
     "text": [
      "[3, 4, 6, 2, 1, 9, 0, 7, 5, 8]\n",
      "[3, 7, 13, 15, 16, 25, 25, 32, 37, 45]\n",
      "[3, 7, 13, 15, 16, 25, 25, 32, 37, 45]\n",
      "[3, -1, -7, -9, -10, -19, -19, -26, -31, -39]\n",
      "[3, 12, 72, 144, 144, 1296, 0, 0, 0, 0]\n",
      "[3, 3, 3, 2, 1, 1, 0, 0, 0, 0]\n",
      "[3, 4, 6, 6, 6, 9, 9, 9, 9, 9]\n",
      "[3, 1, 5, 3, 2, 7, 7, 0, 5, 3]\n"
     ]
    }
   ],
   "source": [
    "\n",
    "import itertools\n",
    "import operator\n",
    "\n",
    "data = [3, 4, 6, 2, 1, 9, 0, 7, 5, 8]\n",
    "print(data)\n",
    "a = list(itertools.accumulate(data)) # sum of all elements\n",
    "print(a)\n",
    "EXPECTED = [ sum(data[:index + 1]) for index in range(len(data)) ]\n",
    "print(EXPECTED)\n",
    "assert a == EXPECTED\n",
    "a = list(itertools.accumulate(data, operator.sub)) # iterative subtraction of all elements\n",
    "print(a)\n",
    "a = list(itertools.accumulate(data, operator.mul)) # product of all elements\n",
    "print(a)\n",
    "a = list(itertools.accumulate(data, min)) # min of all elements up to current index\n",
    "print(a)\n",
    "a = list(itertools.accumulate(data, max)) # max of all elements up to current index\n",
    "print(a)\n",
    "a = list(itertools.accumulate(data, lambda x, y: abs(x - y))) # abs diff between adjacent elements\n",
    "print(a)\n"
   ]
  },
  {
   "cell_type": "markdown",
   "metadata": {},
   "source": [
    "itertools.chain(*iterables) <br><br>\n",
    "Make an iterator that returns elements from the first iterable until it is exhausted, then proceeds to the next iterable, until all of the iterables are exhausted. Used for treating consecutive sequences as a single sequence."
   ]
  },
  {
   "cell_type": "code",
   "execution_count": 2,
   "metadata": {},
   "outputs": [
    {
     "name": "stdout",
     "output_type": "stream",
     "text": [
      "['a', 'b', 'c', 'd', 'e', 'f', 'g', 'h', 'i', 'j', 'k']\n",
      "['l', 'm', 'n', 'o', 'p', 'q', 'r', 's', 't', 'u', 'v', 'w', 'x', 'y', 'z']\n",
      "['a', 'b', 'c', 'd', 'e', 'f', 'g', 'h', 'i', 'j', 'k', 'l', 'm', 'n', 'o', 'p', 'q', 'r', 's', 't', 'u', 'v', 'w', 'x', 'y', 'z']\n"
     ]
    }
   ],
   "source": [
    "\n",
    "import itertools\n",
    "\n",
    "ak = list('abcdefghijk')\n",
    "lz = list('lmnopqrstuvwxyz')\n",
    "print(ak)\n",
    "print(lz)\n",
    "it = itertools.chain(ak, lz)\n",
    "print([letter for letter in it])\n"
   ]
  },
  {
   "cell_type": "markdown",
   "metadata": {},
   "source": [
    "classmethod chain.from_iterable(iterable) <br><br>\n",
    "Alternate constructor for chain(). Gets chained inputs from a single iterable argument that is evaluated lazily."
   ]
  },
  {
   "cell_type": "code",
   "execution_count": 5,
   "metadata": {},
   "outputs": [
    {
     "name": "stdout",
     "output_type": "stream",
     "text": [
      "[0, 1, 2, 3, 4, 5, 6, 7, 8, 9, 'apple', 'blueberry', 'coconut', 'durian', 'A', 'B', 'C', 'D']\n"
     ]
    }
   ],
   "source": [
    "\n",
    "import itertools\n",
    "\n",
    "data_1 = range(10)\n",
    "data_2 = ['apple', 'blueberry', 'coconut', 'durian']\n",
    "data_3 = dict([('A', '1'), ('B', '2'), ('C', '3'), ('D', '4')])\n",
    "it = itertools.chain.from_iterable([data_1, data_2, data_3])\n",
    "print([item for item in it])\n"
   ]
  },
  {
   "cell_type": "markdown",
   "metadata": {},
   "source": [
    "itertools.compress(data, selectors) <br><br>\n",
    "Make an iterator that filters elements from data returning only those that have a corresponding element in selectors that evaluates to True. Stops when either the data or selectors iterables has been exhausted."
   ]
  },
  {
   "cell_type": "code",
   "execution_count": 10,
   "metadata": {},
   "outputs": [
    {
     "name": "stdout",
     "output_type": "stream",
     "text": [
      "['a', 'b', 'c', 'd', 'e', 'f', 'g', 'h', 'i', 'j', 'k', 'l', 'm', 'n', 'o', 'p', 'q', 'r', 's', 't', 'u', 'v', 'w', 'x', 'y', 'z']\n",
      "[0 1 0 1 0 1 0 1 0 1 0 1 0 1 0 1 0 1 0 1 0 1 0 1 0 1]\n",
      "['b', 'd', 'f', 'h', 'j', 'l', 'n', 'p', 'r', 't', 'v', 'x', 'z']\n",
      "[0, 1, 2, 3, 4, 5, 6, 7, 8, 9, 10, 11]\n",
      "[6, 7, 8, 9, 10, 11]\n"
     ]
    }
   ],
   "source": [
    "\n",
    "import itertools\n",
    "import numpy as np\n",
    "\n",
    "data = [chr(n) for n in range(97, 123)]\n",
    "print(data)\n",
    "alternate_selector=np.tile(A=[0, 1], reps=13)\n",
    "print(alternate_selector)\n",
    "it = itertools.compress(data=data, selectors=alternate_selector)\n",
    "print([item for item in it])\n",
    "\n",
    "data = list(range(12))\n",
    "print(data)\n",
    "it = itertools.compress(data=data, selectors=np.where(np.asarray(a=data) >= 6, True, False))\n",
    "print([item for item in it])\n"
   ]
  },
  {
   "cell_type": "markdown",
   "metadata": {},
   "source": [
    "itertools.dropwhile(predicate, iterable) <br><br>\n",
    "Make an iterator that drops elements from the iterable as long as the predicate is true; afterwards, returns every element. Note, the iterator does not produce any output until the predicate first becomes false, so it may have a lengthy start-up time."
   ]
  },
  {
   "cell_type": "code",
   "execution_count": 13,
   "metadata": {},
   "outputs": [
    {
     "name": "stdout",
     "output_type": "stream",
     "text": [
      "[-10, -9, -8, -7, -6, -5, -4, -3, -2, -1, 0, 1, 2, 3, 4, 5, 6, 7, 8, 9, 10]\n",
      "[0, 1, 2, 3, 4, 5, 6, 7, 8, 9, 10]\n",
      "['e', 'a', 'm']\n"
     ]
    }
   ],
   "source": [
    "\n",
    "import itertools\n",
    "\n",
    "data = list(range(-10, 11))\n",
    "print(data)\n",
    "it = itertools.dropwhile(lambda x: x < 0, data)\n",
    "print([item for item in it])\n",
    "\n",
    "word = 'scream'\n",
    "vowels = ['a', 'e', 'i', 'o', 'u']\n",
    "it = itertools.dropwhile(lambda y: y not in vowels, word)\n",
    "print([item for item in it])\n"
   ]
  },
  {
   "cell_type": "markdown",
   "metadata": {},
   "source": [
    "itertools.filterfalse(predicate, iterable) <br><br>\n",
    "Make an iterator that filters elements from iterable returning only those for which the predicate is False. If predicate is None, return the items that are false."
   ]
  },
  {
   "cell_type": "code",
   "execution_count": 18,
   "metadata": {},
   "outputs": [
    {
     "name": "stdout",
     "output_type": "stream",
     "text": [
      "secret message\n"
     ]
    }
   ],
   "source": [
    "\n",
    "import itertools\n",
    "\n",
    "word = 'secireitii meissiagie'\n",
    "it = itertools.filterfalse(lambda z: z == 'i', word)\n",
    "print(''.join([item for item in it]))\n"
   ]
  },
  {
   "cell_type": "markdown",
   "metadata": {},
   "source": [
    "itertools.groupby(iterable, key=None) <br><br>\n",
    "Make an iterator that returns consecutive keys and groups from the iterable. The key is a function computing a key value for each element. If not specified or is None, key defaults to an identity function and returns the element unchanged. Generally, the iterable needs to already be sorted on the same key function."
   ]
  },
  {
   "cell_type": "code",
   "execution_count": 20,
   "metadata": {},
   "outputs": [
    {
     "name": "stdout",
     "output_type": "stream",
     "text": [
      "[(('a', 2), <itertools._grouper object at 0x11b9d9b50>), (('a', 1), <itertools._grouper object at 0x11c93ed10>), (('b', 3), <itertools._grouper object at 0x11c93ec90>), (('b', 1), <itertools._grouper object at 0x11c93ec50>), (('a', 3), <itertools._grouper object at 0x11c869e10>), (('c', 1), <itertools._grouper object at 0x11c8695d0>), (('b', 2), <itertools._grouper object at 0x11c8698d0>), (('c', 2), <itertools._grouper object at 0x11c8694d0>), (('c', 3), <itertools._grouper object at 0x11c869ad0>)]\n"
     ]
    }
   ],
   "source": [
    "\n",
    "import itertools\n",
    "\n",
    "data = [('a', 2), ('a', 1), ('b', 3), ('b', 1), ('a', 3), ('c', 1), ('b', 2), ('c', 2), ('c', 3)]\n",
    "it = itertools.groupby(data, key=None)\n",
    "print([item for item in it])\n"
   ]
  },
  {
   "cell_type": "markdown",
   "metadata": {},
   "source": [
    "itertools.islice(iterable, stop) <br>\n",
    "itertools.islice(iterable, start, stop[, step]) <br><br>\n",
    "Make an iterator that returns selected elements from the iterable. If start is non-zero, then elements from the iterable are skipped until start is reached. Afterward, elements are returned consecutively unless step is set higher than one which results in items being skipped. If stop is None, then iteration continues until the iterator is exhausted, if at all; otherwise, it stops at the specified position. Unlike regular slicing, islice() does not support negative values for start, stop, or step. Can be used to extract related fields from data where the internal structure has been flattened (for example, a multi-line report may list a name field on every third line)."
   ]
  },
  {
   "cell_type": "code",
   "execution_count": 4,
   "metadata": {},
   "outputs": [
    {
     "name": "stdout",
     "output_type": "stream",
     "text": [
      "[0, 1, 2, 3, 4, 5, 6, 7, 8, 9]\n",
      "['c', 'f', 'i', 'l', 'o', 'r', 'u', 'x']\n"
     ]
    }
   ],
   "source": [
    "\n",
    "import itertools\n",
    "\n",
    "data = list(range(20))\n",
    "it = itertools.islice(data, 0, 10)\n",
    "print([item for item in it])\n",
    "\n",
    "data = [chr(i) for i in range(97, 123)]\n",
    "it = itertools.islice(data, 2, 26, 3)\n",
    "print([item for item in it])\n"
   ]
  },
  {
   "cell_type": "markdown",
   "metadata": {},
   "source": [
    "itertools.starmap(function, iterable) <br><br>\n",
    "Make an iterator that computes the function using arguments obtained from the iterable. Used instead of map() when argument parameters are already grouped in tuples from a single iterable (the data has been “pre-zipped”). The difference between map() and starmap() parallels the distinction between function(a,b) and function(*c)."
   ]
  },
  {
   "cell_type": "code",
   "execution_count": 31,
   "metadata": {},
   "outputs": [
    {
     "name": "stdout",
     "output_type": "stream",
     "text": [
      "[1, 2, 120, 40320]\n",
      "[-1, -2, -5, -8]\n",
      "[1.0, 8.0, 125.0, 512.0]\n"
     ]
    }
   ],
   "source": [
    "\n",
    "import itertools\n",
    "import math\n",
    "import operator\n",
    "\n",
    "data = [(1,), (2,), (5,), (8,)]\n",
    "def factorial(n: int):\n",
    "    \"\"\"Computes factorial of given integer value\"\"\"\n",
    "    output = 1\n",
    "    for i in range(1, n + 1):\n",
    "        output *= i\n",
    "    return output\n",
    "\n",
    "it = itertools.starmap(factorial, data)\n",
    "print([item for item in it])\n",
    "\n",
    "it = itertools.starmap(operator.neg, data)\n",
    "print([item for item in it])\n",
    "\n",
    "it = itertools.starmap(lambda x: math.pow(x, 3), data)\n",
    "print([item for item in it])\n"
   ]
  },
  {
   "cell_type": "markdown",
   "metadata": {},
   "source": [
    "itertools.takewhile(predicate, iterable) <br><br>\n",
    "Make an iterator that returns elements from the iterable as long as the predicate is true."
   ]
  },
  {
   "cell_type": "code",
   "execution_count": 34,
   "metadata": {},
   "outputs": [
    {
     "name": "stdout",
     "output_type": "stream",
     "text": [
      "['cat', 'dog', 'owl', 'rat']\n"
     ]
    }
   ],
   "source": [
    "\n",
    "import itertools\n",
    "\n",
    "data = ['cat', 'dog', 'owl', 'rat', 'chimpanzee', 'elephant', 'fox', 'bee']\n",
    "it = itertools.takewhile(lambda x: len(x) == 3, data)\n",
    "print([item for item in it])\n"
   ]
  },
  {
   "cell_type": "markdown",
   "metadata": {},
   "source": [
    "itertools.tee(iterable, n=2) <br><br>\n",
    "Return n independent iterators from a single iterable."
   ]
  },
  {
   "cell_type": "code",
   "execution_count": 37,
   "metadata": {},
   "outputs": [
    {
     "name": "stdout",
     "output_type": "stream",
     "text": [
      "[50, 51, 52, 53, 54, 55, 56, 57, 58, 59, 60]\n",
      "[50, 51, 52, 53, 54, 55, 56, 57, 58, 59, 60]\n",
      "[50, 51, 52, 53, 54, 55, 56, 57, 58, 59, 60]\n",
      "[50, 51, 52, 53, 54, 55, 56, 57, 58, 59, 60]\n",
      "[50, 51, 52, 53, 54, 55, 56, 57, 58, 59, 60]\n",
      "[50, 51, 52, 53, 54, 55, 56, 57, 58, 59, 60]\n"
     ]
    }
   ],
   "source": [
    "\n",
    "import itertools\n",
    "\n",
    "data = range(50, 61)\n",
    "it = itertools.tee(data, 6)\n",
    "for iterator_copy in it:\n",
    "    \"\"\"prints each copy of the same iterator of data\"\"\"\n",
    "    print(list(iterator_copy))\n"
   ]
  },
  {
   "cell_type": "markdown",
   "metadata": {},
   "source": [
    "itertools.zip_longest(*iterables, fillvalue=None) <br><br>\n",
    "Make an iterator that aggregates elements from each of the iterables. If the iterables are of uneven length, missing values are filled-in with fillvalue. Iteration continues until the longest iterable is exhausted."
   ]
  },
  {
   "cell_type": "code",
   "execution_count": 39,
   "metadata": {},
   "outputs": [
    {
     "name": "stdout",
     "output_type": "stream",
     "text": [
      "range(0, 20)\n",
      "['n', 'e', 'p', 't', 'u', 'n', 'e']\n",
      "['alpha', 'beta', 'charlie', 'delta', 'epsilon']\n",
      "['(', ')', '*', '+', ',', '-', '.', '/', '0', '1', '2', '3', '4', '5', '6', '7', '8', '9', ':', ';', '<']\n",
      "[(0, 'n', 'alpha', '('), (1, 'e', 'beta', ')'), (2, 'p', 'charlie', '*'), (3, 't', 'delta', '+'), (4, 'u', 'epsilon', ','), (5, 'n', False, '-'), (6, 'e', False, '.'), (7, False, False, '/'), (8, False, False, '0'), (9, False, False, '1'), (10, False, False, '2'), (11, False, False, '3'), (12, False, False, '4'), (13, False, False, '5'), (14, False, False, '6'), (15, False, False, '7'), (16, False, False, '8'), (17, False, False, '9'), (18, False, False, ':'), (19, False, False, ';'), (False, False, False, '<')]\n"
     ]
    }
   ],
   "source": [
    "\n",
    "import itertools\n",
    "\n",
    "data_1 = range(20)\n",
    "data_2 = list('neptune')\n",
    "data_3 = ['alpha', 'beta', 'charlie', 'delta', 'epsilon']\n",
    "data_4 = [chr(i) for i in range(40, 61)]\n",
    "print(data_1)\n",
    "print(data_2)\n",
    "print(data_3)\n",
    "print(data_4)\n",
    "it = itertools.zip_longest(data_1, data_2, data_3, data_4, fillvalue=False)\n",
    "print([item for item in it])\n"
   ]
  },
  {
   "cell_type": "code",
   "execution_count": null,
   "metadata": {},
   "outputs": [],
   "source": []
  }
 ],
 "metadata": {
  "kernelspec": {
   "display_name": "Python 3",
   "language": "python",
   "name": "python3"
  },
  "language_info": {
   "codemirror_mode": {
    "name": "ipython",
    "version": 3
   },
   "file_extension": ".py",
   "mimetype": "text/x-python",
   "name": "python",
   "nbconvert_exporter": "python",
   "pygments_lexer": "ipython3",
   "version": "3.7.6"
  },
  "varInspector": {
   "cols": {
    "lenName": 16,
    "lenType": 16,
    "lenVar": 40
   },
   "kernels_config": {
    "python": {
     "delete_cmd_postfix": "",
     "delete_cmd_prefix": "del ",
     "library": "var_list.py",
     "varRefreshCmd": "print(var_dic_list())"
    },
    "r": {
     "delete_cmd_postfix": ") ",
     "delete_cmd_prefix": "rm(",
     "library": "var_list.r",
     "varRefreshCmd": "cat(var_dic_list()) "
    }
   },
   "types_to_exclude": [
    "module",
    "function",
    "builtin_function_or_method",
    "instance",
    "_Feature"
   ],
   "window_display": false
  }
 },
 "nbformat": 4,
 "nbformat_minor": 4
}
