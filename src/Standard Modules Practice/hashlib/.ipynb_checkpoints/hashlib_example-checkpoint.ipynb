{
 "cells": [
  {
   "cell_type": "markdown",
   "metadata": {},
   "source": [
    "# hashlib"
   ]
  },
  {
   "cell_type": "markdown",
   "metadata": {},
   "source": [
    "## Example using SHA256"
   ]
  },
  {
   "cell_type": "markdown",
   "metadata": {},
   "source": [
    "url: https://www.journaldev.com/16035/python-hashlib"
   ]
  },
  {
   "cell_type": "code",
   "execution_count": 9,
   "metadata": {},
   "outputs": [
    {
     "name": "stdout",
     "output_type": "stream",
     "text": [
      "{'sha1', 'sha224', 'blake2s', 'sha3_256', 'shake_128', 'sha256', 'sha512', 'sha384', 'md5', 'sha3_224', 'sha3_384', 'shake_256', 'blake2b', 'sha3_512'}\n",
      "{'sha1', 'sha224', 'blake2s', 'sha3_256', 'shake_128', 'sha256', 'sha512', 'sha384', 'md5', 'sha3_224', 'sha3_384', 'shake_256', 'blake2b', 'sha3_512'}\n",
      "\n",
      "Example for SHA 256\n",
      "Output1:  b'\\x9ec\\xcc\\xa3JF\\x95\\x80\\x91\\xe8\\x8c\\xf74\\xd7\\x0f\\xb4RY\\xec\\x96\\xc0|\\xad\\xfaB\\xb0\\xa4\\x0bUX\\xc8\\xb6'\n",
      "Output2:  b'\\x9ec\\xcc\\xa3JF\\x95\\x80\\x91\\xe8\\x8c\\xf74\\xd7\\x0f\\xb4RY\\xec\\x96\\xc0|\\xad\\xfaB\\xb0\\xa4\\x0bUX\\xc8\\xb6'\n"
     ]
    }
   ],
   "source": [
    "\n",
    "import hashlib\n",
    "\n",
    "# find hashing algorithms available\n",
    "print(hashlib.algorithms_available)\n",
    "print(hashlib.algorithms_guaranteed)\n",
    "\n",
    "print('\\nExample for SHA 256')\n",
    "m = hashlib.sha256()\n",
    "m.update(b'This is a')\n",
    "m.update(b' great Python tutorial.')\n",
    "print('Output1: ', m.digest())\n",
    "\n",
    "# same as above but with byte strings combined \n",
    "x = hashlib.sha256()\n",
    "x.update(b'This is a great Python tutorial.')\n",
    "print('Output2: ', x.digest())\n",
    "assert m.digest() == x.digest()\n",
    "\n"
   ]
  },
  {
   "cell_type": "markdown",
   "metadata": {},
   "source": [
    "## Example using MD5"
   ]
  },
  {
   "cell_type": "code",
   "execution_count": 33,
   "metadata": {},
   "outputs": [
    {
     "name": "stdout",
     "output_type": "stream",
     "text": [
      "\n",
      "Example for MD5\n",
      "Output1:  b'\\x99A\\x8c\\x9f\\xcc\\xa3)\\x06\\xda\\x9eLS\\x07\\xc4$\\x06'\n",
      "Output2:  b'\\x99A\\x8c\\x9f\\xcc\\xa3)\\x06\\xda\\x9eLS\\x07\\xc4$\\x06'\n"
     ]
    }
   ],
   "source": [
    "\n",
    "import hashlib\n",
    "\n",
    "print('\\nExample for MD5')\n",
    "m = hashlib.md5()\n",
    "m.update(b'This is a')\n",
    "m.update(b' great Python tutorial.')\n",
    "print('Output1: ', m.digest())\n",
    "\n",
    "x = hashlib.md5()\n",
    "x.update(b'This is a great Python tutorial.')\n",
    "print('Output2: ', x.digest())\n",
    "assert m.digest() == x.digest()\n"
   ]
  },
  {
   "cell_type": "code",
   "execution_count": 40,
   "metadata": {},
   "outputs": [
    {
     "name": "stdout",
     "output_type": "stream",
     "text": [
      "blake2b: \n",
      " b'\\xf2\\x18\\x0529\\x14\\xeb\\x8c\\x136\\xe6\\xc8H#J\\x82F:\\xe8\\x9dK\\xff\\x8a\\xb5\\xc4Ve\\xe4\\xa4Vh\\x1ak\\xa8I\\xb6I\\xea&S\\xbe\\xb1\\xed%?\\xc040\\xc7\\x9b>\\xcbTiW\\xc9\\n\\xff\\xc5\\xb4\\xddP=\\x9a'\n",
      "\n",
      "sha384: \n",
      " d8f9c03d6bad0698d9862c7bd23b8d7d0b991dd4f2abb33b9cd7fab953df045b5f24792e6b285cf39eed64dfb68f9f6c\n"
     ]
    }
   ],
   "source": [
    "\n",
    "# returning the digest or hexdigest can be simplified to one line\n",
    "import hashlib\n",
    "\n",
    "b = hashlib.blake2b(b'testing...').digest()\n",
    "s = hashlib.sha384(b'testing...').hexdigest()\n",
    "print('blake2b: \\n', b, end='\\n\\n')\n",
    "print('sha384: \\n', s)\n"
   ]
  },
  {
   "cell_type": "code",
   "execution_count": 43,
   "metadata": {},
   "outputs": [
    {
     "name": "stdout",
     "output_type": "stream",
     "text": [
      "b'hashlib'\n",
      "sha1:  b'v\\x16\\xac\\x97\\xebSHk\\x90\\x8d\\x0e\\x02N\\xa3\\x0f\\xa4\\xe3!\\xfa\\x1b'\n",
      "sha1:  7616ac97eb53486b908d0e024ea30fa4e321fa1b\n"
     ]
    }
   ],
   "source": [
    "\n",
    "# encoding string with function rather than using b\n",
    "import hashlib\n",
    "{'sha1', 'sha224', 'blake2s', 'sha3_256', 'shake_128', 'sha256', 'sha512', 'sha384', 'md5', 'sha3_224', 'sha3_384', 'shake_256', 'blake2b', 'sha3_512'}\n",
    "\n",
    "mystring = 'hashlib'\n",
    "print(mystring.encode())\n",
    "m = hashlib.sha1(mystring.encode())\n",
    "print('sha1: ', m.digest())\n",
    "print('sha1: ', m.hexdigest())\n"
   ]
  },
  {
   "cell_type": "markdown",
   "metadata": {},
   "source": [
    "## Functions in Depth"
   ]
  },
  {
   "cell_type": "markdown",
   "metadata": {},
   "source": [
    "hashlib.new(name[, data]) <br><br>\n",
    "Is a generic constructor that takes the string name of the desired algorithm as its first parameter. It also exists to allow access to the above listed hashes as well as any other algorithms that your OpenSSL library may offer. The named constructors are much faster than new() and should be preferred."
   ]
  },
  {
   "cell_type": "code",
   "execution_count": 19,
   "metadata": {},
   "outputs": [
    {
     "name": "stdout",
     "output_type": "stream",
     "text": [
      "cc4a5ce1b3df48aec5d22d1f16b894a0b894eccc\n"
     ]
    }
   ],
   "source": [
    "\n",
    "import hashlib\n",
    "\n",
    "h = hashlib.new(name='ripemd')\n",
    "h.update(b\"Nobody inspects the spammish repetition\")\n",
    "print(h.hexdigest())\n"
   ]
  },
  {
   "cell_type": "markdown",
   "metadata": {},
   "source": [
    "hash.digest_size <br><br>\n",
    "The size of the resulting hash in bytes."
   ]
  },
  {
   "cell_type": "markdown",
   "metadata": {},
   "source": [
    "hash.block_size <br><br>\n",
    "The internal block size of the hash algorithm in bytes."
   ]
  },
  {
   "cell_type": "markdown",
   "metadata": {},
   "source": [
    "hash.name <br><br>\n",
    "The canonical name of this hash, always lowercase and always suitable as a parameter to new() to create another hash of this type."
   ]
  },
  {
   "cell_type": "code",
   "execution_count": 32,
   "metadata": {},
   "outputs": [
    {
     "name": "stdout",
     "output_type": "stream",
     "text": [
      "b'\\x84\\xf1\\xfa\\x08\\xe5\\xa3\\xaa\\x0b\\xc4\\xb2R\\x01\\xf7v<\\xc3'\n",
      "16\n",
      "64\n",
      "md5\n"
     ]
    }
   ],
   "source": [
    "\n",
    "import hashlib\n",
    "\n",
    "m = hashlib.md5(b'testing...')\n",
    "print(m.digest())\n",
    "print(m.digest_size)\n",
    "print(m.block_size)\n",
    "print(m.name)\n"
   ]
  },
  {
   "cell_type": "markdown",
   "metadata": {},
   "source": [
    "hash.update(data) <br><br>\n",
    "Update the hash object with the bytes-like object. Repeated calls are equivalent to a single call with the concatenation of all the arguments: m.update(a); m.update(b) is equivalent to m.update(a+b)."
   ]
  },
  {
   "cell_type": "markdown",
   "metadata": {},
   "source": [
    "hash.digest() <br><br>\n",
    "Return the digest of the data passed to the update() method so far. This is a bytes object of size digest_size which may contain bytes in the whole range from 0 to 255."
   ]
  },
  {
   "cell_type": "markdown",
   "metadata": {},
   "source": [
    "hash.hexdigest() <br><br>\n",
    "Like digest() except the digest is returned as a string object of double length, containing only hexadecimal digits. This may be used to exchange the value safely in email or other non-binary environments."
   ]
  },
  {
   "cell_type": "code",
   "execution_count": 57,
   "metadata": {},
   "outputs": [
    {
     "name": "stdout",
     "output_type": "stream",
     "text": [
      "b'\\xd8\\xf9\\xc0=k\\xad\\x06\\x98\\xd9\\x86,{\\xd2;\\x8d}\\x0b\\x99\\x1d\\xd4\\xf2\\xab\\xb3;\\x9c\\xd7\\xfa\\xb9S\\xdf\\x04[_$y.k(\\\\\\xf3\\x9e\\xedd\\xdf\\xb6\\x8f\\x9fl'\n",
      "b'\\xc8\\xc4\\xefI\\xfb\\x8f\\xd7\\x10\\xf4\\xc1E\\t\\xad\\x1bs\\x94\\x83\\x00\\x10\\xb4*-\\xd0\\xdf7\\x95\\xc9\\xebb\\x05\\x9a\\x17\\xeb\\xd1\\x8e\\x80etiI\\xa4\\xd4&O\\xba\\xf0\\x88\\xfd'\n",
      "c8c4ef49fb8fd710f4c14509ad1b7394830010b42a2dd0df3795c9eb62059a17ebd18e8065746949a4d4264fbaf088fd\n"
     ]
    }
   ],
   "source": [
    "\n",
    "import hashlib\n",
    "\n",
    "s = hashlib.sha384(b'testing...')\n",
    "print(s.digest())\n",
    "s.update(b'even more testing...')\n",
    "print(s.digest())\n",
    "print(s.hexdigest())\n",
    "\n"
   ]
  },
  {
   "cell_type": "markdown",
   "metadata": {},
   "source": [
    "hash.copy() <br><br>\n",
    "Return a copy (“clone”) of the hash object. This can be used to efficiently compute the digests of data sharing a common initial substring."
   ]
  },
  {
   "cell_type": "code",
   "execution_count": 65,
   "metadata": {},
   "outputs": [
    {
     "name": "stdout",
     "output_type": "stream",
     "text": [
      "m:  cb5415ba0348bb81d3749d02c8def6c9\n",
      "m_copy:  cb5415ba0348bb81d3749d02c8def6c9\n",
      "m:  551391efd00382ae3dfb9e5b45d99e87\n",
      "m_copy:  551391efd00382ae3dfb9e5b45d99e87\n"
     ]
    }
   ],
   "source": [
    "\n",
    "import hashlib\n",
    "\n",
    "m = hashlib.md5(b'Gator')\n",
    "m_copy = m.copy()\n",
    "print('m: ', m.hexdigest())\n",
    "print('m_copy: ', m_copy.hexdigest())\n",
    "\n",
    "m.update(b'new stuff') # changing original reference to m\n",
    "print('m: ', m.hexdigest())\n",
    "print('m_copy: ', m.hexdigest()) # since m_copy is a clone (shallow copy) m_copy changes with m\n"
   ]
  },
  {
   "cell_type": "code",
   "execution_count": null,
   "metadata": {},
   "outputs": [],
   "source": []
  }
 ],
 "metadata": {
  "kernelspec": {
   "display_name": "Python 3",
   "language": "python",
   "name": "python3"
  },
  "language_info": {
   "codemirror_mode": {
    "name": "ipython",
    "version": 3
   },
   "file_extension": ".py",
   "mimetype": "text/x-python",
   "name": "python",
   "nbconvert_exporter": "python",
   "pygments_lexer": "ipython3",
   "version": "3.7.6"
  },
  "varInspector": {
   "cols": {
    "lenName": 16,
    "lenType": 16,
    "lenVar": 40
   },
   "kernels_config": {
    "python": {
     "delete_cmd_postfix": "",
     "delete_cmd_prefix": "del ",
     "library": "var_list.py",
     "varRefreshCmd": "print(var_dic_list())"
    },
    "r": {
     "delete_cmd_postfix": ") ",
     "delete_cmd_prefix": "rm(",
     "library": "var_list.r",
     "varRefreshCmd": "cat(var_dic_list()) "
    }
   },
   "types_to_exclude": [
    "module",
    "function",
    "builtin_function_or_method",
    "instance",
    "_Feature"
   ],
   "window_display": false
  }
 },
 "nbformat": 4,
 "nbformat_minor": 4
}
